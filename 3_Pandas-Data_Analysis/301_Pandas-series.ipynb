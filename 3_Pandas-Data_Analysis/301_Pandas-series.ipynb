{
 "cells": [
  {
   "cell_type": "markdown",
   "id": "387bfe44",
   "metadata": {},
   "source": [
    "# Pandas Series :"
   ]
  },
  {
   "cell_type": "markdown",
   "id": "e7027045",
   "metadata": {},
   "source": [
    "- Series are the first main Data Type used in Pandas.\n",
    "- They are used to build Data Frames.\n",
    "- **Pandas Series** are similar to NumPy Objects, But series can have **AXIS** labels (i.e. it can be indexed via labels).\n",
    "- **Pandas Series** can hold a variety of object types."
   ]
  },
  {
   "cell_type": "code",
   "execution_count": 6,
   "id": "a9309d0b",
   "metadata": {},
   "outputs": [],
   "source": [
    "import numpy as np\n",
    "import pandas as pd"
   ]
  },
  {
   "cell_type": "code",
   "execution_count": 12,
   "id": "41106fd6",
   "metadata": {},
   "outputs": [],
   "source": [
    "labels = ['a','b','c']           # Python List\n",
    "my_data = [10,20,30]             # Python List\n",
    "arr = np.array(my_data)          # NumPy Array\n",
    "d = {'a':10, 'b':20, 'c':30}     # Python Dictionary "
   ]
  },
  {
   "cell_type": "markdown",
   "id": "25bfabe1",
   "metadata": {},
   "source": [
    "## Creating Pandas Series :"
   ]
  },
  {
   "cell_type": "markdown",
   "id": "26a4a637",
   "metadata": {},
   "source": [
    "> **1. Creating Series by passing a list :**"
   ]
  },
  {
   "cell_type": "markdown",
   "id": "eb80f92b",
   "metadata": {},
   "source": [
    "**`pd.Series(data = yourDataList, index = yourIndexList )`**"
   ]
  },
  {
   "cell_type": "code",
   "execution_count": 22,
   "id": "cb67caa3",
   "metadata": {},
   "outputs": [
    {
     "data": {
      "text/plain": [
       "0    10\n",
       "1    20\n",
       "2    30\n",
       "dtype: int64"
      ]
     },
     "execution_count": 22,
     "metadata": {},
     "output_type": "execute_result"
    }
   ],
   "source": [
    "pd.Series(data = my_data)"
   ]
  },
  {
   "cell_type": "code",
   "execution_count": 23,
   "id": "84845f09",
   "metadata": {},
   "outputs": [
    {
     "data": {
      "text/plain": [
       "0    a\n",
       "1    b\n",
       "2    c\n",
       "dtype: object"
      ]
     },
     "execution_count": 23,
     "metadata": {},
     "output_type": "execute_result"
    }
   ],
   "source": [
    "pd.Series(data = labels)"
   ]
  },
  {
   "cell_type": "code",
   "execution_count": 18,
   "id": "c10e7037",
   "metadata": {},
   "outputs": [
    {
     "data": {
      "text/plain": [
       "a    10\n",
       "b    20\n",
       "c    30\n",
       "dtype: int64"
      ]
     },
     "execution_count": 18,
     "metadata": {},
     "output_type": "execute_result"
    }
   ],
   "source": [
    "pd.Series(data = my_data, index = labels)"
   ]
  },
  {
   "cell_type": "code",
   "execution_count": 19,
   "id": "c03ca776",
   "metadata": {},
   "outputs": [
    {
     "data": {
      "text/plain": [
       "a    10\n",
       "b    20\n",
       "c    30\n",
       "dtype: int64"
      ]
     },
     "execution_count": 19,
     "metadata": {},
     "output_type": "execute_result"
    }
   ],
   "source": [
    "# OR \n",
    "# Data and Labels both can be passed as parameters orderwise :\n",
    "pd.Series(my_data, labels)"
   ]
  },
  {
   "cell_type": "markdown",
   "id": "21d1b90e",
   "metadata": {},
   "source": [
    "> **2. Creating Series by passing a NumPy Array :**"
   ]
  },
  {
   "cell_type": "code",
   "execution_count": 20,
   "id": "63f3473a",
   "metadata": {},
   "outputs": [
    {
     "data": {
      "text/plain": [
       "a    10\n",
       "b    20\n",
       "c    30\n",
       "dtype: int32"
      ]
     },
     "execution_count": 20,
     "metadata": {},
     "output_type": "execute_result"
    }
   ],
   "source": [
    "pd.Series(arr, labels)"
   ]
  },
  {
   "cell_type": "markdown",
   "id": "c7bba959",
   "metadata": {},
   "source": [
    "> **3. Creating Series by passing a Dictionary :**"
   ]
  },
  {
   "cell_type": "markdown",
   "id": "ea79e06a",
   "metadata": {},
   "source": [
    "**`pd.Series(yourDictionayName)`** "
   ]
  },
  {
   "cell_type": "code",
   "execution_count": 21,
   "id": "61a09574",
   "metadata": {},
   "outputs": [
    {
     "data": {
      "text/plain": [
       "a    10\n",
       "b    20\n",
       "c    30\n",
       "dtype: int64"
      ]
     },
     "execution_count": 21,
     "metadata": {},
     "output_type": "execute_result"
    }
   ],
   "source": [
    "# - It will automatically take keys as labels and values as Data.\n",
    "pd.Series(d)"
   ]
  },
  {
   "cell_type": "markdown",
   "id": "374a435e",
   "metadata": {},
   "source": [
    "> **Pandas Series can hold Functions (including Built-in Functions)**"
   ]
  },
  {
   "cell_type": "code",
   "execution_count": 28,
   "id": "c581fac3",
   "metadata": {},
   "outputs": [
    {
     "data": {
      "text/plain": [
       "0                    <built-in function sum>\n",
       "1                  <built-in function print>\n",
       "2                    <built-in function len>\n",
       "3    <function square at 0x000002B760F4B5E0>\n",
       "dtype: object"
      ]
     },
     "execution_count": 28,
     "metadata": {},
     "output_type": "execute_result"
    }
   ],
   "source": [
    "def square(n):\n",
    "    return n**2\n",
    "\n",
    "pd.Series(data = [sum, print, len, square])\n",
    "#  Though it is not that much used "
   ]
  },
  {
   "cell_type": "markdown",
   "id": "521f145d",
   "metadata": {},
   "source": [
    "---"
   ]
  },
  {
   "cell_type": "markdown",
   "id": "fef61df4",
   "metadata": {},
   "source": [
    "## Grabbing Values/Data from Series :"
   ]
  },
  {
   "cell_type": "code",
   "execution_count": 53,
   "id": "71f0e1b9",
   "metadata": {},
   "outputs": [],
   "source": [
    "countryNames = ['India', 'USA', 'Canada', 'Russia', 'Japan']\n",
    "rankings = [1,2,3,4,5]\n",
    "\n",
    "ser1 = pd.Series(rankings, countryNames)\n",
    "ser2 = pd.Series([1,2,3,5,4], ['India', 'USA', 'Canada', 'AUS', 'Russia'])"
   ]
  },
  {
   "cell_type": "code",
   "execution_count": 54,
   "id": "4b561948",
   "metadata": {},
   "outputs": [
    {
     "data": {
      "text/plain": [
       "India     1\n",
       "USA       2\n",
       "Canada    3\n",
       "Russia    4\n",
       "Japan     5\n",
       "dtype: int64"
      ]
     },
     "execution_count": 54,
     "metadata": {},
     "output_type": "execute_result"
    }
   ],
   "source": [
    "ser1"
   ]
  },
  {
   "cell_type": "code",
   "execution_count": 55,
   "id": "1bacd5b9",
   "metadata": {},
   "outputs": [
    {
     "data": {
      "text/plain": [
       "India     1\n",
       "USA       2\n",
       "Canada    3\n",
       "AUS       5\n",
       "Russia    4\n",
       "dtype: int64"
      ]
     },
     "execution_count": 55,
     "metadata": {},
     "output_type": "execute_result"
    }
   ],
   "source": [
    "ser2"
   ]
  },
  {
   "cell_type": "code",
   "execution_count": 40,
   "id": "43bfbf89",
   "metadata": {},
   "outputs": [],
   "source": [
    "# Grabbing Information from Pandas Series (similar to that of Dictionaries) :"
   ]
  },
  {
   "cell_type": "code",
   "execution_count": 41,
   "id": "3442b339",
   "metadata": {},
   "outputs": [
    {
     "data": {
      "text/plain": [
       "1"
      ]
     },
     "execution_count": 41,
     "metadata": {},
     "output_type": "execute_result"
    }
   ],
   "source": [
    "ser1['India']"
   ]
  },
  {
   "cell_type": "code",
   "execution_count": 45,
   "id": "509257c1",
   "metadata": {},
   "outputs": [
    {
     "data": {
      "text/plain": [
       "50"
      ]
     },
     "execution_count": 45,
     "metadata": {},
     "output_type": "execute_result"
    }
   ],
   "source": [
    "ser2['Russia']"
   ]
  },
  {
   "cell_type": "code",
   "execution_count": 51,
   "id": "69d2674f",
   "metadata": {},
   "outputs": [
    {
     "data": {
      "text/plain": [
       "0    a\n",
       "1    b\n",
       "2    c\n",
       "dtype: object"
      ]
     },
     "execution_count": 51,
     "metadata": {},
     "output_type": "execute_result"
    }
   ],
   "source": [
    "# For series without keys(labels)\n",
    "ser3 = pd.Series(data = labels)\n",
    "ser3"
   ]
  },
  {
   "cell_type": "code",
   "execution_count": 52,
   "id": "cdc509fd",
   "metadata": {},
   "outputs": [
    {
     "data": {
      "text/plain": [
       "'a'"
      ]
     },
     "execution_count": 52,
     "metadata": {},
     "output_type": "execute_result"
    }
   ],
   "source": [
    "ser3[0]"
   ]
  },
  {
   "cell_type": "markdown",
   "id": "30956840",
   "metadata": {},
   "source": [
    "> Performing Arithmatic Operations on Series :"
   ]
  },
  {
   "cell_type": "code",
   "execution_count": 58,
   "id": "b0b235c5",
   "metadata": {},
   "outputs": [
    {
     "data": {
      "text/plain": [
       "AUS       NaN\n",
       "Canada    6.0\n",
       "India     2.0\n",
       "Japan     NaN\n",
       "Russia    8.0\n",
       "USA       4.0\n",
       "dtype: float64"
      ]
     },
     "execution_count": 58,
     "metadata": {},
     "output_type": "execute_result"
    }
   ],
   "source": [
    "# - For Different labels that are not common it gives NaN\n",
    "# - Resulting values are in Float64 data type\n",
    "# - Also It performs sorting according to Labels\n",
    "ser1 + ser2"
   ]
  },
  {
   "cell_type": "code",
   "execution_count": 59,
   "id": "0a441cb3",
   "metadata": {},
   "outputs": [
    {
     "data": {
      "text/plain": [
       "AUS       NaN\n",
       "Canada    0.0\n",
       "India     0.0\n",
       "Japan     NaN\n",
       "Russia    0.0\n",
       "USA       0.0\n",
       "dtype: float64"
      ]
     },
     "execution_count": 59,
     "metadata": {},
     "output_type": "execute_result"
    }
   ],
   "source": [
    "ser1 - ser2"
   ]
  },
  {
   "cell_type": "code",
   "execution_count": 60,
   "id": "4ee7f27c",
   "metadata": {},
   "outputs": [
    {
     "data": {
      "text/plain": [
       "AUS        NaN\n",
       "Canada     9.0\n",
       "India      1.0\n",
       "Japan      NaN\n",
       "Russia    16.0\n",
       "USA        4.0\n",
       "dtype: float64"
      ]
     },
     "execution_count": 60,
     "metadata": {},
     "output_type": "execute_result"
    }
   ],
   "source": [
    "ser1 * ser2"
   ]
  },
  {
   "cell_type": "code",
   "execution_count": 61,
   "id": "6362efff",
   "metadata": {},
   "outputs": [
    {
     "data": {
      "text/plain": [
       "AUS         NaN\n",
       "Canada     27.0\n",
       "India       1.0\n",
       "Japan       NaN\n",
       "Russia    256.0\n",
       "USA         4.0\n",
       "dtype: float64"
      ]
     },
     "execution_count": 61,
     "metadata": {},
     "output_type": "execute_result"
    }
   ],
   "source": [
    "ser1 ** ser2"
   ]
  },
  {
   "cell_type": "code",
   "execution_count": 74,
   "id": "094ab7b6",
   "metadata": {},
   "outputs": [
    {
     "data": {
      "text/plain": [
       "AUS       NaN\n",
       "Canada    1.0\n",
       "India     1.0\n",
       "Japan     NaN\n",
       "Russia    1.0\n",
       "USA       1.0\n",
       "dtype: float64"
      ]
     },
     "execution_count": 74,
     "metadata": {},
     "output_type": "execute_result"
    }
   ],
   "source": [
    "ser1 / ser2"
   ]
  },
  {
   "cell_type": "code",
   "execution_count": 92,
   "id": "e8016215",
   "metadata": {},
   "outputs": [],
   "source": [
    "# Boolean Operations cannot be performed here But 'is' and 'is not' can be used"
   ]
  },
  {
   "cell_type": "code",
   "execution_count": 93,
   "id": "0f1a61ae",
   "metadata": {},
   "outputs": [
    {
     "data": {
      "text/plain": [
       "False"
      ]
     },
     "execution_count": 93,
     "metadata": {},
     "output_type": "execute_result"
    }
   ],
   "source": [
    "ser1 is ser2"
   ]
  },
  {
   "cell_type": "code",
   "execution_count": 94,
   "id": "d02e3cd3",
   "metadata": {},
   "outputs": [
    {
     "data": {
      "text/plain": [
       "True"
      ]
     },
     "execution_count": 94,
     "metadata": {},
     "output_type": "execute_result"
    }
   ],
   "source": [
    "ser1 is not ser2"
   ]
  }
 ],
 "metadata": {
  "kernelspec": {
   "display_name": "Python 3 (ipykernel)",
   "language": "python",
   "name": "python3"
  },
  "language_info": {
   "codemirror_mode": {
    "name": "ipython",
    "version": 3
   },
   "file_extension": ".py",
   "mimetype": "text/x-python",
   "name": "python",
   "nbconvert_exporter": "python",
   "pygments_lexer": "ipython3",
   "version": "3.9.7"
  }
 },
 "nbformat": 4,
 "nbformat_minor": 5
}
