{
 "cells": [
  {
   "cell_type": "markdown",
   "id": "2e6ce2f7",
   "metadata": {},
   "source": [
    "# Pandas Introduction :"
   ]
  },
  {
   "cell_type": "markdown",
   "id": "ad03ddca",
   "metadata": {},
   "source": [
    "- It is an open source library built on top of NumPy.\n",
    "- Allows faster analysis and data cleaning and preparation.\n",
    "- It excels in performance and productivity.\n",
    "- It also has built-in visualization features.\n",
    "- It can work with data from wide variety of sources."
   ]
  },
  {
   "cell_type": "markdown",
   "id": "fd86a33d",
   "metadata": {},
   "source": [
    ">**It is also known as Python's version of Excel**"
   ]
  },
  {
   "cell_type": "markdown",
   "id": "a0a78b0a",
   "metadata": {},
   "source": [
    "---"
   ]
  },
  {
   "cell_type": "markdown",
   "id": "ee1b682e",
   "metadata": {},
   "source": [
    "## Installing Pandas:"
   ]
  },
  {
   "cell_type": "markdown",
   "id": "09d539c3",
   "metadata": {},
   "source": [
    "`!conda install pandas` OR `!pip install pandas`"
   ]
  },
  {
   "cell_type": "code",
   "execution_count": 6,
   "id": "49129d65",
   "metadata": {},
   "outputs": [
    {
     "name": "stdout",
     "output_type": "stream",
     "text": [
      "Requirement already satisfied: pandas in c:\\programdata\\anaconda3\\lib\\site-packages (1.3.4)\n",
      "Requirement already satisfied: numpy>=1.17.3 in c:\\programdata\\anaconda3\\lib\\site-packages (from pandas) (1.20.3)\n",
      "Requirement already satisfied: python-dateutil>=2.7.3 in c:\\programdata\\anaconda3\\lib\\site-packages (from pandas) (2.8.2)\n",
      "Requirement already satisfied: pytz>=2017.3 in c:\\programdata\\anaconda3\\lib\\site-packages (from pandas) (2021.3)\n",
      "Requirement already satisfied: six>=1.5 in c:\\programdata\\anaconda3\\lib\\site-packages (from python-dateutil>=2.7.3->pandas) (1.16.0)\n"
     ]
    }
   ],
   "source": [
    "!pip install pandas"
   ]
  },
  {
   "cell_type": "markdown",
   "id": "b2721ec5",
   "metadata": {},
   "source": [
    "---\n",
    "## Importing Pandas:"
   ]
  },
  {
   "cell_type": "code",
   "execution_count": 8,
   "id": "5dba916f",
   "metadata": {},
   "outputs": [],
   "source": [
    "import pandas as pd"
   ]
  }
 ],
 "metadata": {
  "kernelspec": {
   "display_name": "Python 3 (ipykernel)",
   "language": "python",
   "name": "python3"
  },
  "language_info": {
   "codemirror_mode": {
    "name": "ipython",
    "version": 3
   },
   "file_extension": ".py",
   "mimetype": "text/x-python",
   "name": "python",
   "nbconvert_exporter": "python",
   "pygments_lexer": "ipython3",
   "version": "3.9.7"
  }
 },
 "nbformat": 4,
 "nbformat_minor": 5
}
