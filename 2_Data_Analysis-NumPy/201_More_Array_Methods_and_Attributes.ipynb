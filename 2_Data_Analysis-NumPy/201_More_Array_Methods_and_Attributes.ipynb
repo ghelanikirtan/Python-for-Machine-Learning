{
 "cells": [
  {
   "cell_type": "markdown",
   "id": "71a4ed26",
   "metadata": {},
   "source": [
    "# More Arrays METHODS and ATTRIBUTES :"
   ]
  },
  {
   "cell_type": "code",
   "execution_count": 83,
   "id": "54e041d7",
   "metadata": {},
   "outputs": [],
   "source": [
    "import numpy as np"
   ]
  },
  {
   "cell_type": "code",
   "execution_count": 84,
   "id": "6ca73465",
   "metadata": {},
   "outputs": [],
   "source": [
    "arr = np.arange(0,25)\n",
    "ranarr = np.random.randint(0,50, 27)"
   ]
  },
  {
   "cell_type": "code",
   "execution_count": 85,
   "id": "ffa69af8",
   "metadata": {},
   "outputs": [
    {
     "name": "stdout",
     "output_type": "stream",
     "text": [
      "arr =  [ 0  1  2  3  4  5  6  7  8  9 10 11 12 13 14 15 16 17 18 19 20 21 22 23\n",
      " 24]\n",
      "ranarr =  [ 5 27 27  4  8 44 48  8 40 44  5 40 33 33  3 15 22 27 14  6 30 42 14 38\n",
      " 30  5 18]\n"
     ]
    }
   ],
   "source": [
    "print('arr = ',arr)\n",
    "print('ranarr = ',ranarr)"
   ]
  },
  {
   "cell_type": "markdown",
   "id": "de7c9e73",
   "metadata": {},
   "source": [
    "---"
   ]
  },
  {
   "cell_type": "markdown",
   "id": "bfab0f9e",
   "metadata": {},
   "source": [
    "### 1. Reshaping array (i.e. 1-D to n-D) (Method) :"
   ]
  },
  {
   "cell_type": "markdown",
   "id": "6fe3b406",
   "metadata": {},
   "source": [
    "> *syntax :* `arrayName.reshape(n - rows, m - columns, ... )`"
   ]
  },
  {
   "cell_type": "code",
   "execution_count": 86,
   "id": "4faf12a4",
   "metadata": {},
   "outputs": [
    {
     "data": {
      "text/plain": [
       "array([[ 0,  1,  2,  3,  4],\n",
       "       [ 5,  6,  7,  8,  9],\n",
       "       [10, 11, 12, 13, 14],\n",
       "       [15, 16, 17, 18, 19],\n",
       "       [20, 21, 22, 23, 24]])"
      ]
     },
     "execution_count": 86,
     "metadata": {},
     "output_type": "execute_result"
    }
   ],
   "source": [
    "# 1-D to 2-D\n",
    "arr_2d = arr.reshape(5,5)\n",
    "\n",
    "#     here, multiplication of arguments in reshape() should be always \n",
    "#           equal to the size of 1-D array (base_array) & vice-versa\n",
    "#     error arises when above conditions are not followed\n",
    "arr_2d"
   ]
  },
  {
   "cell_type": "code",
   "execution_count": 87,
   "id": "b762e23d",
   "metadata": {},
   "outputs": [
    {
     "data": {
      "text/plain": [
       "array([[[ 5, 27, 27],\n",
       "        [ 4,  8, 44],\n",
       "        [48,  8, 40]],\n",
       "\n",
       "       [[44,  5, 40],\n",
       "        [33, 33,  3],\n",
       "        [15, 22, 27]],\n",
       "\n",
       "       [[14,  6, 30],\n",
       "        [42, 14, 38],\n",
       "        [30,  5, 18]]])"
      ]
     },
     "execution_count": 87,
     "metadata": {},
     "output_type": "execute_result"
    }
   ],
   "source": [
    "# 1-D to 3-D\n",
    "ranarr.reshape(3,3,3)"
   ]
  },
  {
   "cell_type": "code",
   "execution_count": 88,
   "id": "39f3758c",
   "metadata": {},
   "outputs": [
    {
     "data": {
      "text/plain": [
       "array([ 0,  1,  2,  3,  4,  5,  6,  7,  8,  9, 10, 11, 12, 13, 14, 15, 16,\n",
       "       17, 18, 19, 20, 21, 22, 23, 24])"
      ]
     },
     "execution_count": 88,
     "metadata": {},
     "output_type": "execute_result"
    }
   ],
   "source": [
    "# 2-D to 1-D   ->   n*m (2-D size) = N (1-D size)\n",
    "arr_2d.reshape(25)"
   ]
  },
  {
   "cell_type": "markdown",
   "id": "fc619176",
   "metadata": {},
   "source": [
    "---"
   ]
  },
  {
   "cell_type": "markdown",
   "id": "0193ddd9",
   "metadata": {},
   "source": [
    "### 2. Finding Max. and Min. value in array (Method) :\n",
    "`.min()`/`.max()`"
   ]
  },
  {
   "cell_type": "code",
   "execution_count": 89,
   "id": "9c36882e",
   "metadata": {},
   "outputs": [
    {
     "data": {
      "text/plain": [
       "0"
      ]
     },
     "execution_count": 89,
     "metadata": {},
     "output_type": "execute_result"
    }
   ],
   "source": [
    "arr.min()"
   ]
  },
  {
   "cell_type": "code",
   "execution_count": 90,
   "id": "45142c13",
   "metadata": {},
   "outputs": [
    {
     "data": {
      "text/plain": [
       "48"
      ]
     },
     "execution_count": 90,
     "metadata": {},
     "output_type": "execute_result"
    }
   ],
   "source": [
    "ranarr.max()"
   ]
  },
  {
   "cell_type": "markdown",
   "id": "1102de3e",
   "metadata": {},
   "source": [
    "---"
   ]
  },
  {
   "cell_type": "markdown",
   "id": "127c3500",
   "metadata": {},
   "source": [
    "### 3. Finding *INDEX* of Max. and Min. value in array (Method) : \n",
    "`.argmin()`/`.argmax()`"
   ]
  },
  {
   "cell_type": "code",
   "execution_count": 91,
   "id": "81248a30",
   "metadata": {},
   "outputs": [
    {
     "data": {
      "text/plain": [
       "24"
      ]
     },
     "execution_count": 91,
     "metadata": {},
     "output_type": "execute_result"
    }
   ],
   "source": [
    "arr.argmax()   # returns index"
   ]
  },
  {
   "cell_type": "code",
   "execution_count": 92,
   "id": "a12637e3",
   "metadata": {},
   "outputs": [
    {
     "data": {
      "text/plain": [
       "14"
      ]
     },
     "execution_count": 92,
     "metadata": {},
     "output_type": "execute_result"
    }
   ],
   "source": [
    "ranarr.argmin()"
   ]
  },
  {
   "cell_type": "markdown",
   "id": "db380d81",
   "metadata": {},
   "source": [
    "---"
   ]
  },
  {
   "cell_type": "markdown",
   "id": "eb65f89c",
   "metadata": {},
   "source": [
    "### 3. Finding *SHAPE* of array/vector  (Attribute) : \n",
    "`arrayName.shape` - returns tuple"
   ]
  },
  {
   "cell_type": "code",
   "execution_count": 99,
   "id": "debdc575",
   "metadata": {},
   "outputs": [
    {
     "data": {
      "text/plain": [
       "(25,)"
      ]
     },
     "execution_count": 99,
     "metadata": {},
     "output_type": "execute_result"
    }
   ],
   "source": [
    "arr.shape"
   ]
  },
  {
   "cell_type": "code",
   "execution_count": 100,
   "id": "fe7034c1",
   "metadata": {},
   "outputs": [
    {
     "data": {
      "text/plain": [
       "(5, 5)"
      ]
     },
     "execution_count": 100,
     "metadata": {},
     "output_type": "execute_result"
    }
   ],
   "source": [
    "arr_2d.shape"
   ]
  },
  {
   "cell_type": "code",
   "execution_count": 101,
   "id": "7044565c",
   "metadata": {},
   "outputs": [
    {
     "data": {
      "text/plain": [
       "(3, 3, 3)"
      ]
     },
     "execution_count": 101,
     "metadata": {},
     "output_type": "execute_result"
    }
   ],
   "source": [
    "ranarr.reshape(3,3,3).shape"
   ]
  },
  {
   "cell_type": "markdown",
   "id": "254df2f1",
   "metadata": {},
   "source": [
    "---"
   ]
  },
  {
   "cell_type": "markdown",
   "id": "34967fe8",
   "metadata": {},
   "source": [
    "### 4. Finding DATA TYPE (Attribute) :\n",
    "`arrayName.dtype`"
   ]
  },
  {
   "cell_type": "code",
   "execution_count": 111,
   "id": "96ad21d3",
   "metadata": {},
   "outputs": [
    {
     "data": {
      "text/plain": [
       "dtype('int32')"
      ]
     },
     "execution_count": 111,
     "metadata": {},
     "output_type": "execute_result"
    }
   ],
   "source": [
    "arr.dtype"
   ]
  },
  {
   "cell_type": "code",
   "execution_count": 118,
   "id": "f5bd838b",
   "metadata": {},
   "outputs": [
    {
     "data": {
      "text/plain": [
       "dtype('float64')"
      ]
     },
     "execution_count": 118,
     "metadata": {},
     "output_type": "execute_result"
    }
   ],
   "source": [
    "np.array([1.2,2.2,0.0,12.1024564]).dtype"
   ]
  },
  {
   "cell_type": "code",
   "execution_count": 119,
   "id": "b8f53722",
   "metadata": {},
   "outputs": [
    {
     "data": {
      "text/plain": [
       "dtype('<U11')"
      ]
     },
     "execution_count": 119,
     "metadata": {},
     "output_type": "execute_result"
    }
   ],
   "source": [
    "np.array(['0',1,2,4,\"efe\"]).dtype"
   ]
  },
  {
   "cell_type": "markdown",
   "id": "d27734cc",
   "metadata": {},
   "source": [
    "---"
   ]
  }
 ],
 "metadata": {
  "kernelspec": {
   "display_name": "Python 3 (ipykernel)",
   "language": "python",
   "name": "python3"
  },
  "language_info": {
   "codemirror_mode": {
    "name": "ipython",
    "version": 3
   },
   "file_extension": ".py",
   "mimetype": "text/x-python",
   "name": "python",
   "nbconvert_exporter": "python",
   "pygments_lexer": "ipython3",
   "version": "3.9.7"
  }
 },
 "nbformat": 4,
 "nbformat_minor": 5
}
