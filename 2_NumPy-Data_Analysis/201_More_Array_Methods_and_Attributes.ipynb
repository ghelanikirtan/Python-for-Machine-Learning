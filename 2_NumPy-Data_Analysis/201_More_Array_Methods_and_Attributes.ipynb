{
 "cells": [
  {
   "cell_type": "markdown",
   "id": "71a4ed26",
   "metadata": {},
   "source": [
    "# More Arrays METHODS and ATTRIBUTES :"
   ]
  },
  {
   "cell_type": "code",
   "execution_count": 1,
   "id": "54e041d7",
   "metadata": {},
   "outputs": [],
   "source": [
    "import numpy as np"
   ]
  },
  {
   "cell_type": "code",
   "execution_count": 2,
   "id": "6ca73465",
   "metadata": {},
   "outputs": [],
   "source": [
    "arr = np.arange(0,25)\n",
    "ranarr = np.random.randint(0,50, 27)"
   ]
  },
  {
   "cell_type": "code",
   "execution_count": 3,
   "id": "ffa69af8",
   "metadata": {},
   "outputs": [
    {
     "name": "stdout",
     "output_type": "stream",
     "text": [
      "arr =  [ 0  1  2  3  4  5  6  7  8  9 10 11 12 13 14 15 16 17 18 19 20 21 22 23\n",
      " 24]\n",
      "ranarr =  [22 25 13 46 35 38 17  3 33 19 15 43 31 31 42 49 30 45  5  9 19 11 15 32\n",
      " 28  1  0]\n"
     ]
    }
   ],
   "source": [
    "print('arr = ',arr)\n",
    "print('ranarr = ',ranarr)"
   ]
  },
  {
   "cell_type": "markdown",
   "id": "de7c9e73",
   "metadata": {},
   "source": [
    "---"
   ]
  },
  {
   "cell_type": "markdown",
   "id": "bfab0f9e",
   "metadata": {},
   "source": [
    "### 1. Reshaping array (i.e. 1-D to n-D) (Method) :"
   ]
  },
  {
   "cell_type": "markdown",
   "id": "6fe3b406",
   "metadata": {},
   "source": [
    "> *syntax :* `arrayName.reshape(n - rows, m - columns, ... )`\n",
    ">  and `arrayName.ravel()` - n-D array to 1-D array"
   ]
  },
  {
   "cell_type": "code",
   "execution_count": 4,
   "id": "4faf12a4",
   "metadata": {},
   "outputs": [
    {
     "data": {
      "text/plain": [
       "array([[ 0,  1,  2,  3,  4],\n",
       "       [ 5,  6,  7,  8,  9],\n",
       "       [10, 11, 12, 13, 14],\n",
       "       [15, 16, 17, 18, 19],\n",
       "       [20, 21, 22, 23, 24]])"
      ]
     },
     "execution_count": 4,
     "metadata": {},
     "output_type": "execute_result"
    }
   ],
   "source": [
    "# 1-D to 2-D\n",
    "arr_2d = arr.reshape(5,5)\n",
    "\n",
    "#     here, multiplication of arguments in reshape() should be always \n",
    "#           equal to the size of 1-D array (base_array) & vice-versa\n",
    "#     error arises when above conditions are not followed\n",
    "arr_2d"
   ]
  },
  {
   "cell_type": "code",
   "execution_count": 5,
   "id": "b762e23d",
   "metadata": {
    "scrolled": true
   },
   "outputs": [
    {
     "data": {
      "text/plain": [
       "array([[[22, 25, 13],\n",
       "        [46, 35, 38],\n",
       "        [17,  3, 33]],\n",
       "\n",
       "       [[19, 15, 43],\n",
       "        [31, 31, 42],\n",
       "        [49, 30, 45]],\n",
       "\n",
       "       [[ 5,  9, 19],\n",
       "        [11, 15, 32],\n",
       "        [28,  1,  0]]])"
      ]
     },
     "execution_count": 5,
     "metadata": {},
     "output_type": "execute_result"
    }
   ],
   "source": [
    "# 1-D to 3-D\n",
    "ranarr.reshape(3,3,3)"
   ]
  },
  {
   "cell_type": "code",
   "execution_count": 6,
   "id": "39f3758c",
   "metadata": {},
   "outputs": [
    {
     "data": {
      "text/plain": [
       "array([ 0,  1,  2,  3,  4,  5,  6,  7,  8,  9, 10, 11, 12, 13, 14, 15, 16,\n",
       "       17, 18, 19, 20, 21, 22, 23, 24])"
      ]
     },
     "execution_count": 6,
     "metadata": {},
     "output_type": "execute_result"
    }
   ],
   "source": [
    "# 2-D to 1-D   ->   n*m (2-D size) = N (1-D size)\n",
    "arr_2d.reshape(25)"
   ]
  },
  {
   "cell_type": "code",
   "execution_count": 7,
   "id": "284e955a",
   "metadata": {},
   "outputs": [
    {
     "data": {
      "text/plain": [
       "array([[ 0,  1,  2,  3,  4],\n",
       "       [ 5,  6,  7,  8,  9],\n",
       "       [10, 11, 12, 13, 14],\n",
       "       [15, 16, 17, 18, 19],\n",
       "       [20, 21, 22, 23, 24]])"
      ]
     },
     "execution_count": 7,
     "metadata": {},
     "output_type": "execute_result"
    }
   ],
   "source": [
    "arrRavel = np.copy(arr_2d)\n",
    "arrRavel"
   ]
  },
  {
   "cell_type": "code",
   "execution_count": 8,
   "id": "66f6d0a6",
   "metadata": {},
   "outputs": [
    {
     "data": {
      "text/plain": [
       "array([ 0,  1,  2,  3,  4,  5,  6,  7,  8,  9, 10, 11, 12, 13, 14, 15, 16,\n",
       "       17, 18, 19, 20, 21, 22, 23, 24])"
      ]
     },
     "execution_count": 8,
     "metadata": {},
     "output_type": "execute_result"
    }
   ],
   "source": [
    "# from n-D array to 1-D array using ravel() function\n",
    "arrRavel_1d = arrRavel.ravel()\n",
    "arrRavel_1d"
   ]
  },
  {
   "cell_type": "markdown",
   "id": "fc619176",
   "metadata": {},
   "source": [
    "---"
   ]
  },
  {
   "cell_type": "markdown",
   "id": "0193ddd9",
   "metadata": {},
   "source": [
    "### 2. Finding Max. and Min. value in array (Method) :\n",
    "`.min()`/`.max()`"
   ]
  },
  {
   "cell_type": "code",
   "execution_count": 9,
   "id": "9c36882e",
   "metadata": {},
   "outputs": [
    {
     "data": {
      "text/plain": [
       "0"
      ]
     },
     "execution_count": 9,
     "metadata": {},
     "output_type": "execute_result"
    }
   ],
   "source": [
    "arr.min()"
   ]
  },
  {
   "cell_type": "code",
   "execution_count": 10,
   "id": "45142c13",
   "metadata": {},
   "outputs": [
    {
     "data": {
      "text/plain": [
       "49"
      ]
     },
     "execution_count": 10,
     "metadata": {},
     "output_type": "execute_result"
    }
   ],
   "source": [
    "ranarr.max()"
   ]
  },
  {
   "cell_type": "markdown",
   "id": "1102de3e",
   "metadata": {},
   "source": [
    "---"
   ]
  },
  {
   "cell_type": "markdown",
   "id": "127c3500",
   "metadata": {},
   "source": [
    "### 3. Finding *INDEX* of Max. and Min. value in array (Method) : \n",
    "`.argmin()`/`.argmax()`"
   ]
  },
  {
   "cell_type": "code",
   "execution_count": 11,
   "id": "81248a30",
   "metadata": {},
   "outputs": [
    {
     "data": {
      "text/plain": [
       "24"
      ]
     },
     "execution_count": 11,
     "metadata": {},
     "output_type": "execute_result"
    }
   ],
   "source": [
    "arr.argmax()   # returns index"
   ]
  },
  {
   "cell_type": "code",
   "execution_count": 12,
   "id": "a12637e3",
   "metadata": {},
   "outputs": [
    {
     "data": {
      "text/plain": [
       "26"
      ]
     },
     "execution_count": 12,
     "metadata": {},
     "output_type": "execute_result"
    }
   ],
   "source": [
    "ranarr.argmin()"
   ]
  },
  {
   "cell_type": "markdown",
   "id": "b0ec7d1f",
   "metadata": {},
   "source": [
    "---"
   ]
  },
  {
   "cell_type": "markdown",
   "id": "fb257b5c",
   "metadata": {},
   "source": [
    "### 4. Sorting an array :\n",
    "`.sort()`"
   ]
  },
  {
   "cell_type": "code",
   "execution_count": 29,
   "id": "578d14da",
   "metadata": {},
   "outputs": [
    {
     "data": {
      "text/plain": [
       "array([ 1,  2,  4,  5,  6, 33])"
      ]
     },
     "execution_count": 29,
     "metadata": {},
     "output_type": "execute_result"
    }
   ],
   "source": [
    "sortedArr = np.array([1,4,2,6,33,5])\n",
    "sortedArr.sort()\n",
    "sortedArr"
   ]
  },
  {
   "cell_type": "markdown",
   "id": "774ecb8e",
   "metadata": {},
   "source": [
    "---"
   ]
  },
  {
   "cell_type": "markdown",
   "id": "cf53a3d3",
   "metadata": {},
   "source": [
    "### 4.  Using `.argsort()` :"
   ]
  },
  {
   "cell_type": "markdown",
   "id": "4202398e",
   "metadata": {},
   "source": [
    ">***.argsort() function gives the order in which a given array must be arranged for ascending order, it returns the index number of elements present in an array***"
   ]
  },
  {
   "cell_type": "code",
   "execution_count": 36,
   "id": "27ec5586",
   "metadata": {},
   "outputs": [
    {
     "data": {
      "text/plain": [
       "array([  1,   3, 324,  54,   6])"
      ]
     },
     "execution_count": 36,
     "metadata": {},
     "output_type": "execute_result"
    }
   ],
   "source": [
    "one = np.array([1,3,324,54,6])\n",
    "one"
   ]
  },
  {
   "cell_type": "code",
   "execution_count": 59,
   "id": "38588cf9",
   "metadata": {},
   "outputs": [
    {
     "data": {
      "text/plain": [
       "array([0, 1, 4, 3, 2], dtype=int64)"
      ]
     },
     "execution_count": 59,
     "metadata": {},
     "output_type": "execute_result"
    }
   ],
   "source": [
    "# gives indices of the given array to be sorted\n",
    "one.argsort()"
   ]
  },
  {
   "cell_type": "markdown",
   "id": "626d5adb",
   "metadata": {},
   "source": [
    "---"
   ]
  },
  {
   "cell_type": "code",
   "execution_count": 44,
   "id": "b1f2d073",
   "metadata": {},
   "outputs": [],
   "source": [
    "#using argsort() in 2-D arrays using axis "
   ]
  },
  {
   "cell_type": "code",
   "execution_count": 79,
   "id": "0046316b",
   "metadata": {},
   "outputs": [
    {
     "data": {
      "text/plain": [
       "array([[1, 2, 3],\n",
       "       [4, 5, 6],\n",
       "       [7, 1, 0]])"
      ]
     },
     "execution_count": 79,
     "metadata": {},
     "output_type": "execute_result"
    }
   ],
   "source": [
    "two = np.array([[1, 2, 3], [4, 5, 6], [7, 1, 0]])\n",
    "two"
   ]
  },
  {
   "cell_type": "code",
   "execution_count": 80,
   "id": "b483e756",
   "metadata": {},
   "outputs": [
    {
     "data": {
      "text/plain": [
       "array([7, 5, 6])"
      ]
     },
     "execution_count": 80,
     "metadata": {},
     "output_type": "execute_result"
    }
   ],
   "source": [
    "two.max(axis=0)"
   ]
  },
  {
   "cell_type": "code",
   "execution_count": 81,
   "id": "b30eccc4",
   "metadata": {},
   "outputs": [
    {
     "data": {
      "text/plain": [
       "array([2, 1, 1], dtype=int64)"
      ]
     },
     "execution_count": 81,
     "metadata": {},
     "output_type": "execute_result"
    }
   ],
   "source": [
    "two.argmax(axis=0)"
   ]
  },
  {
   "cell_type": "code",
   "execution_count": 82,
   "id": "ebbb807b",
   "metadata": {},
   "outputs": [
    {
     "data": {
      "text/plain": [
       "array([2, 2, 0], dtype=int64)"
      ]
     },
     "execution_count": 82,
     "metadata": {},
     "output_type": "execute_result"
    }
   ],
   "source": [
    "two.argmax(axis=1)"
   ]
  },
  {
   "cell_type": "code",
   "execution_count": 83,
   "id": "4155c33c",
   "metadata": {},
   "outputs": [
    {
     "data": {
      "text/plain": [
       "array([[0, 2, 2],\n",
       "       [1, 0, 0],\n",
       "       [2, 1, 1]], dtype=int64)"
      ]
     },
     "execution_count": 83,
     "metadata": {},
     "output_type": "execute_result"
    }
   ],
   "source": [
    "two.argsort(axis=0)"
   ]
  },
  {
   "cell_type": "code",
   "execution_count": 78,
   "id": "74a8b512",
   "metadata": {},
   "outputs": [
    {
     "data": {
      "text/plain": [
       "array([[1, 1, 0],\n",
       "       [4, 2, 3],\n",
       "       [7, 5, 6]])"
      ]
     },
     "execution_count": 78,
     "metadata": {},
     "output_type": "execute_result"
    }
   ],
   "source": [
    "# two.sort(axis=0)\n",
    "# two"
   ]
  },
  {
   "cell_type": "code",
   "execution_count": 84,
   "id": "68aac2e2",
   "metadata": {},
   "outputs": [
    {
     "data": {
      "text/plain": [
       "array([[0, 1, 2],\n",
       "       [0, 1, 2],\n",
       "       [2, 1, 0]], dtype=int64)"
      ]
     },
     "execution_count": 84,
     "metadata": {},
     "output_type": "execute_result"
    }
   ],
   "source": [
    "two.argsort(axis=1)"
   ]
  },
  {
   "cell_type": "markdown",
   "id": "db380d81",
   "metadata": {},
   "source": [
    "---"
   ]
  },
  {
   "cell_type": "markdown",
   "id": "eb65f89c",
   "metadata": {},
   "source": [
    "### 5. Finding *SHAPE* of array/vector  (Attribute) : \n",
    "`arrayName.shape` - returns tuple"
   ]
  },
  {
   "cell_type": "code",
   "execution_count": 15,
   "id": "debdc575",
   "metadata": {},
   "outputs": [
    {
     "data": {
      "text/plain": [
       "(25,)"
      ]
     },
     "execution_count": 15,
     "metadata": {},
     "output_type": "execute_result"
    }
   ],
   "source": [
    "arr.shape"
   ]
  },
  {
   "cell_type": "code",
   "execution_count": 16,
   "id": "fe7034c1",
   "metadata": {},
   "outputs": [
    {
     "data": {
      "text/plain": [
       "(5, 5)"
      ]
     },
     "execution_count": 16,
     "metadata": {},
     "output_type": "execute_result"
    }
   ],
   "source": [
    "arr_2d.shape"
   ]
  },
  {
   "cell_type": "code",
   "execution_count": 17,
   "id": "7044565c",
   "metadata": {},
   "outputs": [
    {
     "data": {
      "text/plain": [
       "(3, 3, 3)"
      ]
     },
     "execution_count": 17,
     "metadata": {},
     "output_type": "execute_result"
    }
   ],
   "source": [
    "ranarr.reshape(3,3,3).shape"
   ]
  },
  {
   "cell_type": "markdown",
   "id": "254df2f1",
   "metadata": {},
   "source": [
    "---"
   ]
  },
  {
   "cell_type": "markdown",
   "id": "34967fe8",
   "metadata": {},
   "source": [
    "### 6. Finding DATA TYPE (Attribute) :\n",
    "`arrayName.dtype`"
   ]
  },
  {
   "cell_type": "code",
   "execution_count": 18,
   "id": "96ad21d3",
   "metadata": {},
   "outputs": [
    {
     "data": {
      "text/plain": [
       "dtype('int32')"
      ]
     },
     "execution_count": 18,
     "metadata": {},
     "output_type": "execute_result"
    }
   ],
   "source": [
    "arr.dtype"
   ]
  },
  {
   "cell_type": "code",
   "execution_count": 19,
   "id": "f5bd838b",
   "metadata": {},
   "outputs": [
    {
     "data": {
      "text/plain": [
       "dtype('float64')"
      ]
     },
     "execution_count": 19,
     "metadata": {},
     "output_type": "execute_result"
    }
   ],
   "source": [
    "np.array([1.2,2.2,0.0,12.1024564]).dtype"
   ]
  },
  {
   "cell_type": "code",
   "execution_count": 20,
   "id": "b8f53722",
   "metadata": {},
   "outputs": [
    {
     "data": {
      "text/plain": [
       "dtype('<U11')"
      ]
     },
     "execution_count": 20,
     "metadata": {},
     "output_type": "execute_result"
    }
   ],
   "source": [
    "np.array(['0',1,2,4,\"efe\"]).dtype"
   ]
  },
  {
   "cell_type": "markdown",
   "id": "d27734cc",
   "metadata": {},
   "source": [
    "---"
   ]
  }
 ],
 "metadata": {
  "kernelspec": {
   "display_name": "Python 3 (ipykernel)",
   "language": "python",
   "name": "python3"
  },
  "language_info": {
   "codemirror_mode": {
    "name": "ipython",
    "version": 3
   },
   "file_extension": ".py",
   "mimetype": "text/x-python",
   "name": "python",
   "nbconvert_exporter": "python",
   "pygments_lexer": "ipython3",
   "version": "3.9.7"
  }
 },
 "nbformat": 4,
 "nbformat_minor": 5
}
