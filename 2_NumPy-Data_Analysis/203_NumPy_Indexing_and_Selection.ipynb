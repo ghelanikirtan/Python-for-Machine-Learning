{
 "cells": [
  {
   "cell_type": "markdown",
   "id": "122e5e08",
   "metadata": {},
   "source": [
    "# NumPy Indexing and Selection : "
   ]
  },
  {
   "cell_type": "code",
   "execution_count": 1,
   "id": "edfca2e6",
   "metadata": {},
   "outputs": [],
   "source": [
    "import numpy as np"
   ]
  },
  {
   "cell_type": "code",
   "execution_count": 8,
   "id": "fd9be5d8",
   "metadata": {},
   "outputs": [
    {
     "data": {
      "text/plain": [
       "array([ 0,  1,  2,  3,  4,  5,  6,  7,  8,  9, 10])"
      ]
     },
     "execution_count": 8,
     "metadata": {},
     "output_type": "execute_result"
    }
   ],
   "source": [
    "arr = np.arange(0, 11)\n",
    "arr"
   ]
  },
  {
   "cell_type": "markdown",
   "id": "39843221",
   "metadata": {},
   "source": [
    "> **Indexing is somewhat similar to python list**"
   ]
  },
  {
   "cell_type": "code",
   "execution_count": 10,
   "id": "16a2a2d0",
   "metadata": {},
   "outputs": [
    {
     "data": {
      "text/plain": [
       "8"
      ]
     },
     "execution_count": 10,
     "metadata": {},
     "output_type": "execute_result"
    }
   ],
   "source": [
    "arr[8]"
   ]
  },
  {
   "cell_type": "markdown",
   "id": "e8860b43",
   "metadata": {},
   "source": [
    "> **Slice notation can also be used in arrays same as list**"
   ]
  },
  {
   "cell_type": "markdown",
   "id": "6438d003",
   "metadata": {},
   "source": [
    "`arrayName[start : stop : steps]`"
   ]
  },
  {
   "cell_type": "code",
   "execution_count": 19,
   "id": "f94bbc71",
   "metadata": {},
   "outputs": [
    {
     "data": {
      "text/plain": [
       "array([3, 4, 5, 6])"
      ]
     },
     "execution_count": 19,
     "metadata": {},
     "output_type": "execute_result"
    }
   ],
   "source": [
    "arr[3:7]"
   ]
  },
  {
   "cell_type": "code",
   "execution_count": 18,
   "id": "348c9bfd",
   "metadata": {},
   "outputs": [
    {
     "data": {
      "text/plain": [
       "array([2, 4, 6, 8])"
      ]
     },
     "execution_count": 18,
     "metadata": {},
     "output_type": "execute_result"
    }
   ],
   "source": [
    "arr[2:9:2]"
   ]
  },
  {
   "cell_type": "code",
   "execution_count": 46,
   "id": "057ed50b",
   "metadata": {},
   "outputs": [
    {
     "data": {
      "text/plain": [
       "array([0, 1, 2, 3, 4])"
      ]
     },
     "execution_count": 46,
     "metadata": {},
     "output_type": "execute_result"
    }
   ],
   "source": [
    "arr[:5]"
   ]
  },
  {
   "cell_type": "markdown",
   "id": "506882bd",
   "metadata": {},
   "source": [
    "> **NumPy array can Broadcast while list cannot**"
   ]
  },
  {
   "cell_type": "markdown",
   "id": "3e426a1f",
   "metadata": {},
   "source": [
    "`arrayName[start:stop:steps] = value`"
   ]
  },
  {
   "cell_type": "code",
   "execution_count": 47,
   "id": "3b8a2b2d",
   "metadata": {},
   "outputs": [],
   "source": [
    "arr[0:5] = 100"
   ]
  },
  {
   "cell_type": "code",
   "execution_count": 48,
   "id": "a6f7ae94",
   "metadata": {},
   "outputs": [
    {
     "data": {
      "text/plain": [
       "array([100, 100, 100, 100, 100,   5,   6,   7,   8,   9,  10])"
      ]
     },
     "execution_count": 48,
     "metadata": {},
     "output_type": "execute_result"
    }
   ],
   "source": [
    "arr"
   ]
  },
  {
   "cell_type": "code",
   "execution_count": 49,
   "id": "6d8c390b",
   "metadata": {},
   "outputs": [
    {
     "data": {
      "text/plain": [
       "array([ 0,  1,  2,  3,  4,  5,  6,  7,  8,  9, 10])"
      ]
     },
     "execution_count": 49,
     "metadata": {},
     "output_type": "execute_result"
    }
   ],
   "source": [
    "arr = np.arange(0,11) #resetting an array\n",
    "arr"
   ]
  },
  {
   "cell_type": "code",
   "execution_count": 50,
   "id": "fe4e3fe2",
   "metadata": {},
   "outputs": [
    {
     "data": {
      "text/plain": [
       "array([0, 1, 2, 3, 4])"
      ]
     },
     "execution_count": 50,
     "metadata": {},
     "output_type": "execute_result"
    }
   ],
   "source": [
    "slice_of_arr = arr[0: int(len(arr)/2)]\n",
    "slice_of_arr"
   ]
  },
  {
   "cell_type": "markdown",
   "id": "120882ae",
   "metadata": {},
   "source": [
    "> **NOTE :** *Changing an element of child array can result into changing of parent array also*"
   ]
  },
  {
   "cell_type": "markdown",
   "id": "27d2afae",
   "metadata": {},
   "source": [
    "- This happens because the data is not copied but is reused, NumPy does that in order to avoid memory issues of very large arrays. "
   ]
  },
  {
   "cell_type": "code",
   "execution_count": 51,
   "id": "17f1503a",
   "metadata": {},
   "outputs": [
    {
     "data": {
      "text/plain": [
       "array([100, 100, 100, 100, 100])"
      ]
     },
     "execution_count": 51,
     "metadata": {},
     "output_type": "execute_result"
    }
   ],
   "source": [
    "slice_of_arr[:] = 100\n",
    "slice_of_arr"
   ]
  },
  {
   "cell_type": "code",
   "execution_count": 52,
   "id": "47137c53",
   "metadata": {},
   "outputs": [
    {
     "data": {
      "text/plain": [
       "array([100, 100, 100, 100, 100,   5,   6,   7,   8,   9,  10])"
      ]
     },
     "execution_count": 52,
     "metadata": {},
     "output_type": "execute_result"
    }
   ],
   "source": [
    "arr"
   ]
  },
  {
   "cell_type": "code",
   "execution_count": 53,
   "id": "040afb34",
   "metadata": {},
   "outputs": [
    {
     "data": {
      "text/plain": [
       "array([100, 100, 100, 100, 100,   5,   6,   7,   8,   9,  10])"
      ]
     },
     "execution_count": 53,
     "metadata": {},
     "output_type": "execute_result"
    }
   ],
   "source": [
    "# arr = np.arange(0,11)\n",
    "arr"
   ]
  },
  {
   "cell_type": "markdown",
   "id": "7ff8457f",
   "metadata": {},
   "source": [
    "> **In order to copy an array copy() function is used :**"
   ]
  },
  {
   "cell_type": "markdown",
   "id": "c778b100",
   "metadata": {},
   "source": [
    "`arrayName.copy()`"
   ]
  },
  {
   "cell_type": "code",
   "execution_count": 55,
   "id": "da003b2c",
   "metadata": {},
   "outputs": [
    {
     "data": {
      "text/plain": [
       "array([100, 100, 100, 100, 100,   5,   6,   7,   8,   9,  10])"
      ]
     },
     "execution_count": 55,
     "metadata": {},
     "output_type": "execute_result"
    }
   ],
   "source": [
    "arr_copy = arr.copy()\n",
    "arr_copy"
   ]
  },
  {
   "cell_type": "code",
   "execution_count": 59,
   "id": "de0950f8",
   "metadata": {},
   "outputs": [
    {
     "data": {
      "text/plain": [
       "array([1000, 1000, 1000, 1000, 1000, 1000, 1000, 1000, 1000, 1000, 1000])"
      ]
     },
     "execution_count": 59,
     "metadata": {},
     "output_type": "execute_result"
    }
   ],
   "source": [
    "# Changing arr_copy will not change arr because it created a copy\n",
    "arr_copy[:] = 1000\n",
    "arr_copy"
   ]
  },
  {
   "cell_type": "code",
   "execution_count": 60,
   "id": "1f7298ec",
   "metadata": {},
   "outputs": [
    {
     "data": {
      "text/plain": [
       "array([100, 100, 100, 100, 100,   5,   6,   7,   8,   9,  10])"
      ]
     },
     "execution_count": 60,
     "metadata": {},
     "output_type": "execute_result"
    }
   ],
   "source": [
    "arr"
   ]
  }
 ],
 "metadata": {
  "kernelspec": {
   "display_name": "Python 3 (ipykernel)",
   "language": "python",
   "name": "python3"
  },
  "language_info": {
   "codemirror_mode": {
    "name": "ipython",
    "version": 3
   },
   "file_extension": ".py",
   "mimetype": "text/x-python",
   "name": "python",
   "nbconvert_exporter": "python",
   "pygments_lexer": "ipython3",
   "version": "3.9.7"
  }
 },
 "nbformat": 4,
 "nbformat_minor": 5
}
