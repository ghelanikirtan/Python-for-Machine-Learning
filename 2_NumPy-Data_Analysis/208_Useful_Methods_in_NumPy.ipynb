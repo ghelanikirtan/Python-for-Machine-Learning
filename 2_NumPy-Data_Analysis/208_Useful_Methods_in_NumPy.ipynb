{
 "cells": [
  {
   "cell_type": "markdown",
   "id": "5396244c",
   "metadata": {},
   "source": [
    "# Few More Important Methods on NumPy :"
   ]
  },
  {
   "cell_type": "code",
   "execution_count": 1,
   "id": "d05d8b5e",
   "metadata": {},
   "outputs": [],
   "source": [
    "import numpy as np"
   ]
  },
  {
   "cell_type": "code",
   "execution_count": 2,
   "id": "d48c6eec",
   "metadata": {},
   "outputs": [
    {
     "data": {
      "text/plain": [
       "array([0, 1, 2, 3, 4, 5, 6, 7, 8])"
      ]
     },
     "execution_count": 2,
     "metadata": {},
     "output_type": "execute_result"
    }
   ],
   "source": [
    "arr = np.arange(9)\n",
    "arr"
   ]
  },
  {
   "cell_type": "code",
   "execution_count": 3,
   "id": "b39dc8e8",
   "metadata": {},
   "outputs": [
    {
     "data": {
      "text/plain": [
       "array([[0, 1, 2],\n",
       "       [3, 4, 5],\n",
       "       [6, 7, 8]])"
      ]
     },
     "execution_count": 3,
     "metadata": {},
     "output_type": "execute_result"
    }
   ],
   "source": [
    "arr_2d = arr.reshape(3,3)\n",
    "arr_1x9 = arr.reshape(1,9)\n",
    "arr_2d"
   ]
  },
  {
   "cell_type": "markdown",
   "id": "cf5430aa",
   "metadata": {},
   "source": [
    "---"
   ]
  },
  {
   "cell_type": "markdown",
   "id": "faabe03d",
   "metadata": {},
   "source": [
    "## 1. Transpose of Matrix : "
   ]
  },
  {
   "cell_type": "code",
   "execution_count": 4,
   "id": "19df48e8",
   "metadata": {},
   "outputs": [
    {
     "data": {
      "text/plain": [
       "array([[0, 3, 6],\n",
       "       [1, 4, 7],\n",
       "       [2, 5, 8]])"
      ]
     },
     "execution_count": 4,
     "metadata": {},
     "output_type": "execute_result"
    }
   ],
   "source": [
    "arr_2d.T"
   ]
  },
  {
   "cell_type": "code",
   "execution_count": 5,
   "id": "79fcd890",
   "metadata": {},
   "outputs": [
    {
     "data": {
      "text/plain": [
       "array([0, 1, 2, 3, 4, 5, 6, 7, 8])"
      ]
     },
     "execution_count": 5,
     "metadata": {},
     "output_type": "execute_result"
    }
   ],
   "source": [
    "# It does not applies on 1-D array\n",
    "arr.T"
   ]
  },
  {
   "cell_type": "code",
   "execution_count": 6,
   "id": "e160701a",
   "metadata": {},
   "outputs": [
    {
     "data": {
      "text/plain": [
       "array([[0],\n",
       "       [1],\n",
       "       [2],\n",
       "       [3],\n",
       "       [4],\n",
       "       [5],\n",
       "       [6],\n",
       "       [7],\n",
       "       [8]])"
      ]
     },
     "execution_count": 6,
     "metadata": {},
     "output_type": "execute_result"
    }
   ],
   "source": [
    "arr_1x9.T"
   ]
  },
  {
   "cell_type": "markdown",
   "id": "ff4a5122",
   "metadata": {},
   "source": [
    "---\n",
    "## 2. Fetcing iterator using *.flat* attribute :"
   ]
  },
  {
   "cell_type": "code",
   "execution_count": 7,
   "id": "9cc8883c",
   "metadata": {},
   "outputs": [
    {
     "data": {
      "text/plain": [
       "<numpy.flatiter at 0x22ce045ef00>"
      ]
     },
     "execution_count": 7,
     "metadata": {},
     "output_type": "execute_result"
    }
   ],
   "source": [
    "arr.flat"
   ]
  },
  {
   "cell_type": "code",
   "execution_count": 8,
   "id": "cf26287b",
   "metadata": {},
   "outputs": [
    {
     "name": "stdout",
     "output_type": "stream",
     "text": [
      "0\n",
      "1\n",
      "2\n",
      "3\n",
      "4\n",
      "5\n",
      "6\n",
      "7\n",
      "8\n"
     ]
    }
   ],
   "source": [
    "for item in arr.flat:\n",
    "    print(item)"
   ]
  },
  {
   "cell_type": "markdown",
   "id": "20b31cb9",
   "metadata": {},
   "source": [
    "---\n",
    "## 3. Finding Number of dimensions using *ndim* :"
   ]
  },
  {
   "cell_type": "code",
   "execution_count": 9,
   "id": "f10ec0ea",
   "metadata": {},
   "outputs": [
    {
     "data": {
      "text/plain": [
       "1"
      ]
     },
     "execution_count": 9,
     "metadata": {},
     "output_type": "execute_result"
    }
   ],
   "source": [
    "arr.ndim"
   ]
  },
  {
   "cell_type": "code",
   "execution_count": 10,
   "id": "9df6f1b2",
   "metadata": {},
   "outputs": [
    {
     "data": {
      "text/plain": [
       "2"
      ]
     },
     "execution_count": 10,
     "metadata": {},
     "output_type": "execute_result"
    }
   ],
   "source": [
    "arr_2d.ndim"
   ]
  },
  {
   "cell_type": "markdown",
   "id": "61e1e61f",
   "metadata": {},
   "source": [
    "---\n",
    "## 4. Finding the bytes of array :"
   ]
  },
  {
   "cell_type": "code",
   "execution_count": 11,
   "id": "dda6f18b",
   "metadata": {},
   "outputs": [
    {
     "data": {
      "text/plain": [
       "36"
      ]
     },
     "execution_count": 11,
     "metadata": {},
     "output_type": "execute_result"
    }
   ],
   "source": [
    "arr.nbytes"
   ]
  },
  {
   "cell_type": "code",
   "execution_count": 12,
   "id": "c683bb4f",
   "metadata": {},
   "outputs": [
    {
     "data": {
      "text/plain": [
       "60"
      ]
     },
     "execution_count": 12,
     "metadata": {},
     "output_type": "execute_result"
    }
   ],
   "source": [
    "np.arange(0,15).nbytes"
   ]
  },
  {
   "cell_type": "code",
   "execution_count": 13,
   "id": "98327fe1",
   "metadata": {},
   "outputs": [
    {
     "data": {
      "text/plain": [
       "8"
      ]
     },
     "execution_count": 13,
     "metadata": {},
     "output_type": "execute_result"
    }
   ],
   "source": [
    "np.random.rand(1).nbytes"
   ]
  },
  {
   "cell_type": "code",
   "execution_count": 14,
   "id": "e00b5ce1",
   "metadata": {},
   "outputs": [
    {
     "data": {
      "text/plain": [
       "array([1])"
      ]
     },
     "execution_count": 14,
     "metadata": {},
     "output_type": "execute_result"
    }
   ],
   "source": [
    "np.random.randint(1,6, 1)"
   ]
  },
  {
   "cell_type": "code",
   "execution_count": 15,
   "id": "e2ee68a1",
   "metadata": {},
   "outputs": [
    {
     "data": {
      "text/plain": [
       "4"
      ]
     },
     "execution_count": 15,
     "metadata": {},
     "output_type": "execute_result"
    }
   ],
   "source": [
    "np.random.randint(1,6, 1).nbytes"
   ]
  },
  {
   "cell_type": "markdown",
   "id": "baf4633e",
   "metadata": {},
   "source": [
    "---\n",
    "## 5. Finding Number of non-zero elements :"
   ]
  },
  {
   "cell_type": "code",
   "execution_count": 24,
   "id": "ae873865",
   "metadata": {},
   "outputs": [
    {
     "data": {
      "text/plain": [
       "9"
      ]
     },
     "execution_count": 24,
     "metadata": {},
     "output_type": "execute_result"
    }
   ],
   "source": [
    "nonZeroArr = np.array([0,1,2,0,4,0,5,6,7])\n",
    "nonZeroArr_2d = nonZeroArr.reshape(3,3)\n",
    "nonZeroArr.size"
   ]
  },
  {
   "cell_type": "code",
   "execution_count": 26,
   "id": "6ea12d0f",
   "metadata": {},
   "outputs": [
    {
     "data": {
      "text/plain": [
       "6"
      ]
     },
     "execution_count": 26,
     "metadata": {},
     "output_type": "execute_result"
    }
   ],
   "source": [
    "# Counts the number of non-zeros\n",
    "np.count_nonzero(nonZeroArr)"
   ]
  },
  {
   "cell_type": "code",
   "execution_count": 29,
   "id": "95c35ee9",
   "metadata": {},
   "outputs": [
    {
     "data": {
      "text/plain": [
       "(array([1, 2, 4, 6, 7, 8], dtype=int64),)"
      ]
     },
     "execution_count": 29,
     "metadata": {},
     "output_type": "execute_result"
    }
   ],
   "source": [
    "# Gives the tuple representing dimensions that have non-zeros\n",
    "np.nonzero(nonZeroArr)"
   ]
  },
  {
   "cell_type": "code",
   "execution_count": 31,
   "id": "3297cbf7",
   "metadata": {},
   "outputs": [
    {
     "name": "stdout",
     "output_type": "stream",
     "text": [
      "[[0 1 2]\n",
      " [0 4 0]\n",
      " [5 6 7]]\n"
     ]
    },
    {
     "data": {
      "text/plain": [
       "(array([0, 0, 1, 2, 2, 2], dtype=int64),\n",
       " array([1, 2, 1, 0, 1, 2], dtype=int64))"
      ]
     },
     "execution_count": 31,
     "metadata": {},
     "output_type": "execute_result"
    }
   ],
   "source": [
    "# Gives the tuple representing dimensions that have non-zeros\n",
    "print(nonZeroArr_2d)\n",
    "np.nonzero(nonZeroArr_2d)"
   ]
  },
  {
   "cell_type": "markdown",
   "id": "8d40dcc6",
   "metadata": {},
   "source": [
    "---\n",
    "## 6. NumPy Array to list :\n",
    "`.tolist()`"
   ]
  },
  {
   "cell_type": "code",
   "execution_count": 33,
   "id": "e274452f",
   "metadata": {},
   "outputs": [
    {
     "data": {
      "text/plain": [
       "array([0, 1, 2, 3, 4, 5, 6, 7, 8])"
      ]
     },
     "execution_count": 33,
     "metadata": {},
     "output_type": "execute_result"
    }
   ],
   "source": [
    "arr"
   ]
  },
  {
   "cell_type": "code",
   "execution_count": 34,
   "id": "51fa2289",
   "metadata": {},
   "outputs": [
    {
     "data": {
      "text/plain": [
       "[0, 1, 2, 3, 4, 5, 6, 7, 8]"
      ]
     },
     "execution_count": 34,
     "metadata": {},
     "output_type": "execute_result"
    }
   ],
   "source": [
    "arr.tolist()"
   ]
  },
  {
   "cell_type": "markdown",
   "id": "1ab89ae1",
   "metadata": {},
   "source": [
    "---"
   ]
  },
  {
   "cell_type": "markdown",
   "id": "9011e7bd",
   "metadata": {},
   "source": [
    "# Many more [Attributes and Methods](https://numpy.org/doc/stable/reference/generated/numpy.ndarray.html) 😁"
   ]
  }
 ],
 "metadata": {
  "kernelspec": {
   "display_name": "Python 3 (ipykernel)",
   "language": "python",
   "name": "python3"
  },
  "language_info": {
   "codemirror_mode": {
    "name": "ipython",
    "version": 3
   },
   "file_extension": ".py",
   "mimetype": "text/x-python",
   "name": "python",
   "nbconvert_exporter": "python",
   "pygments_lexer": "ipython3",
   "version": "3.9.7"
  }
 },
 "nbformat": 4,
 "nbformat_minor": 5
}
