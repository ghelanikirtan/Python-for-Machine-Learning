{
 "cells": [
  {
   "cell_type": "markdown",
   "id": "d77bf205",
   "metadata": {},
   "source": [
    "# Importing specific function from given Module :"
   ]
  },
  {
   "cell_type": "markdown",
   "id": "202b2456",
   "metadata": {},
   "source": [
    "`from library_Name import function_Name`"
   ]
  },
  {
   "cell_type": "code",
   "execution_count": 6,
   "id": "ba92cd2e",
   "metadata": {},
   "outputs": [],
   "source": [
    "from numpy.random import randint"
   ]
  },
  {
   "cell_type": "code",
   "execution_count": 7,
   "id": "d8048883",
   "metadata": {},
   "outputs": [
    {
     "data": {
      "text/plain": [
       "array([5, 8, 9, 8, 4])"
      ]
     },
     "execution_count": 7,
     "metadata": {},
     "output_type": "execute_result"
    }
   ],
   "source": [
    "randint(2,10,5)\n",
    "# same as - np.random.randint(2,10,5)"
   ]
  },
  {
   "cell_type": "markdown",
   "id": "9b4ee021",
   "metadata": {},
   "source": [
    "---"
   ]
  },
  {
   "cell_type": "code",
   "execution_count": 9,
   "id": "356d79b2",
   "metadata": {},
   "outputs": [],
   "source": [
    "from numpy import array as ar "
   ]
  },
  {
   "cell_type": "code",
   "execution_count": 12,
   "id": "1ee625c8",
   "metadata": {},
   "outputs": [
    {
     "data": {
      "text/plain": [
       "array([2, 3, 4, 5])"
      ]
     },
     "execution_count": 12,
     "metadata": {},
     "output_type": "execute_result"
    }
   ],
   "source": [
    "ar([2,3,4,5])"
   ]
  },
  {
   "cell_type": "code",
   "execution_count": 21,
   "id": "ff1cc719",
   "metadata": {},
   "outputs": [
    {
     "data": {
      "text/plain": [
       "1"
      ]
     },
     "execution_count": 21,
     "metadata": {},
     "output_type": "execute_result"
    }
   ],
   "source": [
    "ar([2,3,2,44,4542,3,1]).min()"
   ]
  },
  {
   "cell_type": "markdown",
   "id": "e21f603a",
   "metadata": {},
   "source": [
    "---"
   ]
  }
 ],
 "metadata": {
  "kernelspec": {
   "display_name": "Python 3 (ipykernel)",
   "language": "python",
   "name": "python3"
  },
  "language_info": {
   "codemirror_mode": {
    "name": "ipython",
    "version": 3
   },
   "file_extension": ".py",
   "mimetype": "text/x-python",
   "name": "python",
   "nbconvert_exporter": "python",
   "pygments_lexer": "ipython3",
   "version": "3.9.7"
  }
 },
 "nbformat": 4,
 "nbformat_minor": 5
}
