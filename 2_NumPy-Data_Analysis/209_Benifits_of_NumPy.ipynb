{
 "cells": [
  {
   "cell_type": "markdown",
   "id": "2d784bb5",
   "metadata": {},
   "source": [
    "### Benifits of using NumPy in terms of Memory Management :"
   ]
  },
  {
   "cell_type": "code",
   "execution_count": 1,
   "id": "749ac699",
   "metadata": {},
   "outputs": [],
   "source": [
    "import sys #To find the size of given data structure\n",
    "import numpy as np"
   ]
  },
  {
   "cell_type": "code",
   "execution_count": 8,
   "id": "0aa41e80",
   "metadata": {},
   "outputs": [],
   "source": [
    "py_arr = [0,12,24,2]"
   ]
  },
  {
   "cell_type": "code",
   "execution_count": 9,
   "id": "7f991006",
   "metadata": {},
   "outputs": [],
   "source": [
    "np_arr = np.array(py_arr)"
   ]
  },
  {
   "cell_type": "code",
   "execution_count": 10,
   "id": "edc829ac",
   "metadata": {},
   "outputs": [
    {
     "data": {
      "text/plain": [
       "112"
      ]
     },
     "execution_count": 10,
     "metadata": {},
     "output_type": "execute_result"
    }
   ],
   "source": [
    "# Finding the size of py_arr in the memory\n",
    "sys.getsizeof(1) * len(py_arr)"
   ]
  },
  {
   "cell_type": "code",
   "execution_count": 12,
   "id": "82f39e8f",
   "metadata": {},
   "outputs": [
    {
     "data": {
      "text/plain": [
       "16"
      ]
     },
     "execution_count": 12,
     "metadata": {},
     "output_type": "execute_result"
    }
   ],
   "source": [
    "np_arr.itemsize * np_arr.size"
   ]
  },
  {
   "cell_type": "markdown",
   "id": "2f3e7e3a",
   "metadata": {},
   "source": [
    ">**Thus NumPy array uses less memory than normal Python Lists**"
   ]
  }
 ],
 "metadata": {
  "kernelspec": {
   "display_name": "Python 3 (ipykernel)",
   "language": "python",
   "name": "python3"
  },
  "language_info": {
   "codemirror_mode": {
    "name": "ipython",
    "version": 3
   },
   "file_extension": ".py",
   "mimetype": "text/x-python",
   "name": "python",
   "nbconvert_exporter": "python",
   "pygments_lexer": "ipython3",
   "version": "3.9.7"
  }
 },
 "nbformat": 4,
 "nbformat_minor": 5
}
