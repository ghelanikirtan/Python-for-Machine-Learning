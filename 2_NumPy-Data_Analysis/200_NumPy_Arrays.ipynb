{
 "cells": [
  {
   "cell_type": "markdown",
   "id": "7c47525b",
   "metadata": {},
   "source": [
    "# NumPy - Linear Algebra Lib. for Python :"
   ]
  },
  {
   "cell_type": "markdown",
   "id": "910fe169",
   "metadata": {},
   "source": [
    ">**Installation :** `!conda install numpy` OR `!pip install numpy`"
   ]
  },
  {
   "cell_type": "markdown",
   "id": "8d99b66c",
   "metadata": {},
   "source": [
    "# NumPy Arrays :"
   ]
  },
  {
   "cell_type": "code",
   "execution_count": 4,
   "id": "3ae402a1",
   "metadata": {},
   "outputs": [],
   "source": [
    "my_list = [0,1,2,3,4]"
   ]
  },
  {
   "cell_type": "code",
   "execution_count": 5,
   "id": "41cdf5ea",
   "metadata": {},
   "outputs": [],
   "source": [
    "#Importing numpy\n",
    "import numpy as np"
   ]
  },
  {
   "cell_type": "code",
   "execution_count": 9,
   "id": "fff259d7",
   "metadata": {},
   "outputs": [
    {
     "data": {
      "text/plain": [
       "array([0, 1, 2, 3, 4])"
      ]
     },
     "execution_count": 9,
     "metadata": {},
     "output_type": "execute_result"
    }
   ],
   "source": [
    "# casting a list into numpy array\n",
    "arr = np.array(my_list)\n",
    "arr"
   ]
  },
  {
   "cell_type": "code",
   "execution_count": 14,
   "id": "3dc422aa",
   "metadata": {},
   "outputs": [
    {
     "data": {
      "text/plain": [
       "array([[1, 2, 3],\n",
       "       [4, 5, 6],\n",
       "       [7, 8, 9]])"
      ]
     },
     "execution_count": 14,
     "metadata": {},
     "output_type": "execute_result"
    }
   ],
   "source": [
    "my_matrix = [[1,2,3], [4,5,6], [7,8,9]]\n",
    "\n",
    "# casting 2-D list into 2-D array\n",
    "np.array(my_matrix)"
   ]
  },
  {
   "cell_type": "markdown",
   "id": "7df595fb",
   "metadata": {},
   "source": [
    "## **Common ways to create NumPy arrays :**"
   ]
  },
  {
   "cell_type": "markdown",
   "id": "e29f6907",
   "metadata": {},
   "source": [
    "**1. Creating array of specific range :**"
   ]
  },
  {
   "cell_type": "code",
   "execution_count": 19,
   "id": "53e716be",
   "metadata": {},
   "outputs": [
    {
     "data": {
      "text/plain": [
       "array([0, 1, 2, 3, 4, 5, 6, 7, 8, 9])"
      ]
     },
     "execution_count": 19,
     "metadata": {},
     "output_type": "execute_result"
    }
   ],
   "source": [
    "# np.arange(start, end, step-size=1)\n",
    "np.arange(0,10)"
   ]
  },
  {
   "cell_type": "code",
   "execution_count": 67,
   "id": "23828c91",
   "metadata": {},
   "outputs": [
    {
     "data": {
      "text/plain": [
       "array([0, 1, 2, 3, 4, 5, 6, 7, 8, 9])"
      ]
     },
     "execution_count": 67,
     "metadata": {},
     "output_type": "execute_result"
    }
   ],
   "source": [
    "np.arange(0,10)"
   ]
  },
  {
   "cell_type": "markdown",
   "id": "a80b63bc",
   "metadata": {},
   "source": [
    "---"
   ]
  },
  {
   "cell_type": "markdown",
   "id": "98fbb868",
   "metadata": {},
   "source": [
    "**2. Creating array of all zeros :**"
   ]
  },
  {
   "cell_type": "code",
   "execution_count": 68,
   "id": "1e24c571",
   "metadata": {},
   "outputs": [
    {
     "data": {
      "text/plain": [
       "array([0., 0., 0.])"
      ]
     },
     "execution_count": 68,
     "metadata": {},
     "output_type": "execute_result"
    }
   ],
   "source": [
    "# np.zeros(size)\n",
    "np.zeros(3)"
   ]
  },
  {
   "cell_type": "code",
   "execution_count": 61,
   "id": "dc25cfd5",
   "metadata": {},
   "outputs": [
    {
     "data": {
      "text/plain": [
       "array([[0., 0., 0., 0., 0.],\n",
       "       [0., 0., 0., 0., 0.],\n",
       "       [0., 0., 0., 0., 0.]])"
      ]
     },
     "execution_count": 61,
     "metadata": {},
     "output_type": "execute_result"
    }
   ],
   "source": [
    "# n-D array of all zeros - np.zeros(n-sized_tuple) \n",
    "np.zeros((3,5))"
   ]
  },
  {
   "cell_type": "markdown",
   "id": "4d1a542d",
   "metadata": {},
   "source": [
    "---"
   ]
  },
  {
   "cell_type": "markdown",
   "id": "f35a038f",
   "metadata": {},
   "source": [
    "**3. Creating array of ones :**"
   ]
  },
  {
   "cell_type": "code",
   "execution_count": 69,
   "id": "b7409764",
   "metadata": {},
   "outputs": [
    {
     "data": {
      "text/plain": [
       "array([1., 1., 1., 1., 1.])"
      ]
     },
     "execution_count": 69,
     "metadata": {},
     "output_type": "execute_result"
    }
   ],
   "source": [
    "# np.ones(size)\n",
    "np.ones(5)"
   ]
  },
  {
   "cell_type": "code",
   "execution_count": 70,
   "id": "a23e5b84",
   "metadata": {},
   "outputs": [
    {
     "data": {
      "text/plain": [
       "array([[1., 1., 1.],\n",
       "       [1., 1., 1.]])"
      ]
     },
     "execution_count": 70,
     "metadata": {},
     "output_type": "execute_result"
    }
   ],
   "source": [
    "# n-D array of ones\n",
    "np.ones((2,3))"
   ]
  },
  {
   "cell_type": "markdown",
   "id": "70d65fde",
   "metadata": {},
   "source": [
    "---"
   ]
  },
  {
   "cell_type": "markdown",
   "id": "269bd33f",
   "metadata": {},
   "source": [
    "**4. Creating linearly-spaced arrays in given range :**"
   ]
  },
  {
   "cell_type": "code",
   "execution_count": 73,
   "id": "4c7c9502",
   "metadata": {},
   "outputs": [
    {
     "data": {
      "text/plain": [
       "array([ 0.        ,  1.42857143,  2.85714286,  4.28571429,  5.71428571,\n",
       "        7.14285714,  8.57142857, 10.        ])"
      ]
     },
     "execution_count": 73,
     "metadata": {},
     "output_type": "execute_result"
    }
   ],
   "source": [
    "# linspace(start, stop, even_space=50)\n",
    "# even_space - the size of array (also generates the array from start-stop range only)      \n",
    "np.linspace(0,10, 8)"
   ]
  },
  {
   "cell_type": "markdown",
   "id": "fa4bf3a2",
   "metadata": {},
   "source": [
    "---"
   ]
  },
  {
   "cell_type": "markdown",
   "id": "c5c01155",
   "metadata": {},
   "source": [
    "**5. IDENTITY MATRIX using numpy (size - n * n) :**"
   ]
  },
  {
   "cell_type": "code",
   "execution_count": 74,
   "id": "aed11526",
   "metadata": {},
   "outputs": [
    {
     "data": {
      "text/plain": [
       "array([[1., 0., 0.],\n",
       "       [0., 1., 0.],\n",
       "       [0., 0., 1.]])"
      ]
     },
     "execution_count": 74,
     "metadata": {},
     "output_type": "execute_result"
    }
   ],
   "source": [
    "# np.eye(size)\n",
    "np.eye(3)"
   ]
  },
  {
   "cell_type": "markdown",
   "id": "f33900fa",
   "metadata": {},
   "source": [
    "---"
   ]
  },
  {
   "cell_type": "markdown",
   "id": "91cf118f",
   "metadata": {},
   "source": [
    "### **6. Arrays of random numbers :**"
   ]
  },
  {
   "cell_type": "code",
   "execution_count": 107,
   "id": "f75cdc56",
   "metadata": {},
   "outputs": [
    {
     "data": {
      "text/plain": [
       "array([0.44189654, 0.15263331, 0.1320879 , 0.34890858, 0.94540165])"
      ]
     },
     "execution_count": 107,
     "metadata": {},
     "output_type": "execute_result"
    }
   ],
   "source": [
    "# 1. rand - gives random numbers in uniform distribution (range : 0-1)\n",
    "np.random.rand(5)\n",
    "# for 2-D >  np.random.rand(3,5)"
   ]
  },
  {
   "cell_type": "code",
   "execution_count": 116,
   "id": "1094d209",
   "metadata": {},
   "outputs": [
    {
     "data": {
      "text/plain": [
       "array([-2.13179588,  1.96873073,  0.28161955,  1.35750393,  1.55395604])"
      ]
     },
     "execution_count": 116,
     "metadata": {},
     "output_type": "execute_result"
    }
   ],
   "source": [
    "# 2. randn - gives random numbers in standard normal distribution\n",
    "np.random.randn(5)\n",
    "# for 2-D >  np.random.rand(3,5)"
   ]
  },
  {
   "cell_type": "code",
   "execution_count": 122,
   "id": "ac7b9733",
   "metadata": {},
   "outputs": [
    {
     "data": {
      "text/plain": [
       "36"
      ]
     },
     "execution_count": 122,
     "metadata": {},
     "output_type": "execute_result"
    }
   ],
   "source": [
    "# 3. randint - \n",
    "   # np.random.randint(low_inclusive, high_exlcusive, size=1)\n",
    "\n",
    "np.random.randint(0,100)    "
   ]
  },
  {
   "cell_type": "code",
   "execution_count": 124,
   "id": "b789f76a",
   "metadata": {},
   "outputs": [
    {
     "data": {
      "text/plain": [
       "array([72, 20, 76, 18, 28, 85, 60, 69, 67, 52])"
      ]
     },
     "execution_count": 124,
     "metadata": {},
     "output_type": "execute_result"
    }
   ],
   "source": [
    "np.random.randint(0,100, 10)"
   ]
  },
  {
   "cell_type": "markdown",
   "id": "9f8f0182",
   "metadata": {},
   "source": [
    "---"
   ]
  }
 ],
 "metadata": {
  "kernelspec": {
   "display_name": "Python 3 (ipykernel)",
   "language": "python",
   "name": "python3"
  },
  "language_info": {
   "codemirror_mode": {
    "name": "ipython",
    "version": 3
   },
   "file_extension": ".py",
   "mimetype": "text/x-python",
   "name": "python",
   "nbconvert_exporter": "python",
   "pygments_lexer": "ipython3",
   "version": "3.9.7"
  }
 },
 "nbformat": 4,
 "nbformat_minor": 5
}
