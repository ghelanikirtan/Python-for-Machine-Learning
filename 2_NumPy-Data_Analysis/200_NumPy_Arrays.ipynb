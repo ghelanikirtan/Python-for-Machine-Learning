{
 "cells": [
  {
   "cell_type": "markdown",
   "id": "7c47525b",
   "metadata": {},
   "source": [
    "# NumPy - Linear Algebra Lib. for Python :"
   ]
  },
  {
   "cell_type": "markdown",
   "id": "910fe169",
   "metadata": {},
   "source": [
    ">**Installation :** `!conda install numpy` OR `!pip install numpy`"
   ]
  },
  {
   "cell_type": "markdown",
   "id": "8d99b66c",
   "metadata": {},
   "source": [
    "# NumPy Arrays :"
   ]
  },
  {
   "cell_type": "code",
   "execution_count": 1,
   "id": "3ae402a1",
   "metadata": {},
   "outputs": [],
   "source": [
    "my_list = [0,1,2,3,4]"
   ]
  },
  {
   "cell_type": "code",
   "execution_count": 2,
   "id": "41cdf5ea",
   "metadata": {},
   "outputs": [],
   "source": [
    "#Importing numpy\n",
    "import numpy as np"
   ]
  },
  {
   "cell_type": "code",
   "execution_count": 3,
   "id": "fff259d7",
   "metadata": {},
   "outputs": [
    {
     "data": {
      "text/plain": [
       "array([0, 1, 2, 3, 4])"
      ]
     },
     "execution_count": 3,
     "metadata": {},
     "output_type": "execute_result"
    }
   ],
   "source": [
    "# casting a list into numpy array\n",
    "arr = np.array(my_list)\n",
    "arr"
   ]
  },
  {
   "cell_type": "code",
   "execution_count": 4,
   "id": "2a0f25cd",
   "metadata": {},
   "outputs": [
    {
     "data": {
      "text/plain": [
       "array([0, 1, 2, 3, 4], dtype=int8)"
      ]
     },
     "execution_count": 4,
     "metadata": {},
     "output_type": "execute_result"
    }
   ],
   "source": [
    "# casting a list into numpy array with specific data type\n",
    "# to make it more efficient\n",
    "myarr = np.array(my_list, np.int8)\n",
    "myarr"
   ]
  },
  {
   "cell_type": "code",
   "execution_count": 5,
   "id": "0de6167c",
   "metadata": {},
   "outputs": [
    {
     "data": {
      "text/plain": [
       "array([  1,  23, -25,   3,   4], dtype=int8)"
      ]
     },
     "execution_count": 5,
     "metadata": {},
     "output_type": "execute_result"
    }
   ],
   "source": [
    "# While giving specific data type if value exceeds than it will give error\n",
    "np.array([1,23,7878887,3,4], np.int8)"
   ]
  },
  {
   "cell_type": "code",
   "execution_count": 6,
   "id": "3dc422aa",
   "metadata": {},
   "outputs": [
    {
     "data": {
      "text/plain": [
       "array([[1, 2, 3],\n",
       "       [4, 5, 6],\n",
       "       [7, 8, 9]])"
      ]
     },
     "execution_count": 6,
     "metadata": {},
     "output_type": "execute_result"
    }
   ],
   "source": [
    "my_matrix = [[1,2,3], [4,5,6], [7,8,9]]\n",
    "\n",
    "# casting 2-D list into 2-D array\n",
    "np.array(my_matrix)"
   ]
  },
  {
   "cell_type": "markdown",
   "id": "7df595fb",
   "metadata": {},
   "source": [
    "## **Common ways to create NumPy arrays :**"
   ]
  },
  {
   "cell_type": "markdown",
   "id": "e29f6907",
   "metadata": {},
   "source": [
    "**1. Creating array of specific range :**"
   ]
  },
  {
   "cell_type": "code",
   "execution_count": 7,
   "id": "53e716be",
   "metadata": {},
   "outputs": [
    {
     "data": {
      "text/plain": [
       "array([0, 1, 2, 3, 4, 5, 6, 7, 8, 9])"
      ]
     },
     "execution_count": 7,
     "metadata": {},
     "output_type": "execute_result"
    }
   ],
   "source": [
    "# np.arange(start, end, step-size=1)\n",
    "np.arange(0,10)"
   ]
  },
  {
   "cell_type": "code",
   "execution_count": 8,
   "id": "23828c91",
   "metadata": {},
   "outputs": [
    {
     "data": {
      "text/plain": [
       "array([0, 1, 2, 3, 4, 5, 6, 7, 8, 9])"
      ]
     },
     "execution_count": 8,
     "metadata": {},
     "output_type": "execute_result"
    }
   ],
   "source": [
    "np.arange(0,10)"
   ]
  },
  {
   "cell_type": "markdown",
   "id": "a80b63bc",
   "metadata": {},
   "source": [
    "---"
   ]
  },
  {
   "cell_type": "markdown",
   "id": "98fbb868",
   "metadata": {},
   "source": [
    "**2. Creating array of all zeros :**"
   ]
  },
  {
   "cell_type": "code",
   "execution_count": 9,
   "id": "1e24c571",
   "metadata": {},
   "outputs": [
    {
     "data": {
      "text/plain": [
       "array([0., 0., 0.])"
      ]
     },
     "execution_count": 9,
     "metadata": {},
     "output_type": "execute_result"
    }
   ],
   "source": [
    "# np.zeros(size)\n",
    "np.zeros(3)"
   ]
  },
  {
   "cell_type": "code",
   "execution_count": 10,
   "id": "dc25cfd5",
   "metadata": {},
   "outputs": [
    {
     "data": {
      "text/plain": [
       "array([[0., 0., 0., 0., 0.],\n",
       "       [0., 0., 0., 0., 0.],\n",
       "       [0., 0., 0., 0., 0.]])"
      ]
     },
     "execution_count": 10,
     "metadata": {},
     "output_type": "execute_result"
    }
   ],
   "source": [
    "# n-D array of all zeros - np.zeros(n-sized_tuple) \n",
    "np.zeros((3,5))"
   ]
  },
  {
   "cell_type": "markdown",
   "id": "4d1a542d",
   "metadata": {},
   "source": [
    "---"
   ]
  },
  {
   "cell_type": "markdown",
   "id": "f35a038f",
   "metadata": {},
   "source": [
    "**3. Creating array of ones :**"
   ]
  },
  {
   "cell_type": "code",
   "execution_count": 11,
   "id": "b7409764",
   "metadata": {},
   "outputs": [
    {
     "data": {
      "text/plain": [
       "array([1., 1., 1., 1., 1.])"
      ]
     },
     "execution_count": 11,
     "metadata": {},
     "output_type": "execute_result"
    }
   ],
   "source": [
    "# np.ones(size)\n",
    "np.ones(5)"
   ]
  },
  {
   "cell_type": "code",
   "execution_count": 12,
   "id": "a23e5b84",
   "metadata": {},
   "outputs": [
    {
     "data": {
      "text/plain": [
       "array([[1., 1., 1.],\n",
       "       [1., 1., 1.]])"
      ]
     },
     "execution_count": 12,
     "metadata": {},
     "output_type": "execute_result"
    }
   ],
   "source": [
    "# n-D array of ones\n",
    "np.ones((2,3))"
   ]
  },
  {
   "cell_type": "markdown",
   "id": "70d65fde",
   "metadata": {},
   "source": [
    "---"
   ]
  },
  {
   "cell_type": "markdown",
   "id": "269bd33f",
   "metadata": {},
   "source": [
    "**4. Creating linearly-spaced arrays in given range :**"
   ]
  },
  {
   "cell_type": "code",
   "execution_count": 13,
   "id": "4c7c9502",
   "metadata": {},
   "outputs": [
    {
     "data": {
      "text/plain": [
       "array([ 0.        ,  1.42857143,  2.85714286,  4.28571429,  5.71428571,\n",
       "        7.14285714,  8.57142857, 10.        ])"
      ]
     },
     "execution_count": 13,
     "metadata": {},
     "output_type": "execute_result"
    }
   ],
   "source": [
    "# linspace(start, stop, even_space=50)\n",
    "# even_space - the size of array (also generates the array from start-stop range only)      \n",
    "np.linspace(0,10, 8)"
   ]
  },
  {
   "cell_type": "markdown",
   "id": "fa4bf3a2",
   "metadata": {},
   "source": [
    "---"
   ]
  },
  {
   "cell_type": "markdown",
   "id": "c5c01155",
   "metadata": {},
   "source": [
    "**5. IDENTITY MATRIX using numpy (size - n * n) :**"
   ]
  },
  {
   "cell_type": "code",
   "execution_count": 22,
   "id": "aed11526",
   "metadata": {},
   "outputs": [
    {
     "data": {
      "text/plain": [
       "array([[1., 0., 0.],\n",
       "       [0., 1., 0.],\n",
       "       [0., 0., 1.]])"
      ]
     },
     "execution_count": 22,
     "metadata": {},
     "output_type": "execute_result"
    }
   ],
   "source": [
    "# np.eye(size)\n",
    "np.eye(3)"
   ]
  },
  {
   "cell_type": "code",
   "execution_count": 23,
   "id": "3973b0dd",
   "metadata": {},
   "outputs": [
    {
     "data": {
      "text/plain": [
       "array([[1., 0., 0., 0.],\n",
       "       [0., 1., 0., 0.],\n",
       "       [0., 0., 1., 0.],\n",
       "       [0., 0., 0., 1.]])"
      ]
     },
     "execution_count": 23,
     "metadata": {},
     "output_type": "execute_result"
    }
   ],
   "source": [
    "# np.identity(size)\n",
    "np.identity(4)"
   ]
  },
  {
   "cell_type": "markdown",
   "id": "f33900fa",
   "metadata": {},
   "source": [
    "---"
   ]
  },
  {
   "cell_type": "markdown",
   "id": "91cf118f",
   "metadata": {},
   "source": [
    "### **6. Arrays of random numbers :**"
   ]
  },
  {
   "cell_type": "code",
   "execution_count": 15,
   "id": "f75cdc56",
   "metadata": {},
   "outputs": [
    {
     "data": {
      "text/plain": [
       "array([0.70623777, 0.35468481, 0.91732787, 0.35789881, 0.28021821])"
      ]
     },
     "execution_count": 15,
     "metadata": {},
     "output_type": "execute_result"
    }
   ],
   "source": [
    "# 1. rand - gives random numbers in uniform distribution (range : 0-1)\n",
    "np.random.rand(5)\n",
    "# for 2-D >  np.random.rand(3,5)"
   ]
  },
  {
   "cell_type": "code",
   "execution_count": 16,
   "id": "1094d209",
   "metadata": {},
   "outputs": [
    {
     "data": {
      "text/plain": [
       "array([-2.13984792,  0.10133002, -0.55130326, -0.53773865,  1.05124847])"
      ]
     },
     "execution_count": 16,
     "metadata": {},
     "output_type": "execute_result"
    }
   ],
   "source": [
    "# 2. randn - gives random numbers in standard normal distribution\n",
    "np.random.randn(5)\n",
    "# for 2-D >  np.random.rand(3,5)"
   ]
  },
  {
   "cell_type": "code",
   "execution_count": 17,
   "id": "ac7b9733",
   "metadata": {},
   "outputs": [
    {
     "data": {
      "text/plain": [
       "0"
      ]
     },
     "execution_count": 17,
     "metadata": {},
     "output_type": "execute_result"
    }
   ],
   "source": [
    "# 3. randint - \n",
    "   # np.random.randint(low_inclusive, high_exlcusive, size=1)\n",
    "\n",
    "np.random.randint(0,100)    "
   ]
  },
  {
   "cell_type": "code",
   "execution_count": 18,
   "id": "b789f76a",
   "metadata": {},
   "outputs": [
    {
     "data": {
      "text/plain": [
       "array([36, 73, 97, 67, 82, 97, 84, 57, 37, 41])"
      ]
     },
     "execution_count": 18,
     "metadata": {},
     "output_type": "execute_result"
    }
   ],
   "source": [
    "np.random.randint(0,100, 10)"
   ]
  },
  {
   "cell_type": "markdown",
   "id": "9f8f0182",
   "metadata": {},
   "source": [
    "---"
   ]
  },
  {
   "cell_type": "markdown",
   "id": "0e314514",
   "metadata": {},
   "source": [
    "### **7. Creating Empty Array :**"
   ]
  },
  {
   "cell_type": "code",
   "execution_count": 19,
   "id": "2b3bf7a9",
   "metadata": {},
   "outputs": [
    {
     "data": {
      "text/plain": [
       "5"
      ]
     },
     "execution_count": 19,
     "metadata": {},
     "output_type": "execute_result"
    }
   ],
   "source": [
    "temparr = np.ones(5)\n",
    "temparr.size"
   ]
  },
  {
   "cell_type": "code",
   "execution_count": 20,
   "id": "7df25745",
   "metadata": {},
   "outputs": [
    {
     "data": {
      "text/plain": [
       "array([[5.e-324, 0.e+000],\n",
       "       [0.e+000, 0.e+000]])"
      ]
     },
     "execution_count": 20,
     "metadata": {},
     "output_type": "execute_result"
    }
   ],
   "source": [
    "# creates empty array\n",
    "emparr = np.empty((2,2))\n",
    "emparr"
   ]
  },
  {
   "cell_type": "code",
   "execution_count": 21,
   "id": "14073492",
   "metadata": {},
   "outputs": [
    {
     "data": {
      "text/plain": [
       "array([-2.13984792,  0.10133002, -0.55130326, -0.53773865,  1.05124847])"
      ]
     },
     "execution_count": 21,
     "metadata": {},
     "output_type": "execute_result"
    }
   ],
   "source": [
    "# creates empty array of specific sized predefined array (empty_like)\n",
    "# replicates the size of existing array\n",
    "emp_like = np.empty_like(temparr)\n",
    "emp_like"
   ]
  },
  {
   "cell_type": "markdown",
   "id": "66a15038",
   "metadata": {},
   "source": [
    "---"
   ]
  },
  {
   "cell_type": "code",
   "execution_count": null,
   "id": "998e8267",
   "metadata": {},
   "outputs": [],
   "source": []
  }
 ],
 "metadata": {
  "kernelspec": {
   "display_name": "Python 3 (ipykernel)",
   "language": "python",
   "name": "python3"
  },
  "language_info": {
   "codemirror_mode": {
    "name": "ipython",
    "version": 3
   },
   "file_extension": ".py",
   "mimetype": "text/x-python",
   "name": "python",
   "nbconvert_exporter": "python",
   "pygments_lexer": "ipython3",
   "version": "3.9.7"
  }
 },
 "nbformat": 4,
 "nbformat_minor": 5
}
