{
 "cells": [
  {
   "cell_type": "markdown",
   "id": "e192e1c9",
   "metadata": {},
   "source": [
    "# NumPy Operations : \n",
    "***(same as Matrix operations)***"
   ]
  },
  {
   "cell_type": "markdown",
   "id": "59c2cc77",
   "metadata": {},
   "source": [
    "- **Array with Array**\n",
    "- **Array with Scalars**\n",
    "- **Universal Array Functions**"
   ]
  },
  {
   "cell_type": "code",
   "execution_count": 1,
   "id": "089e4a5f",
   "metadata": {},
   "outputs": [],
   "source": [
    "import numpy as np"
   ]
  },
  {
   "cell_type": "code",
   "execution_count": 2,
   "id": "25da0311",
   "metadata": {},
   "outputs": [
    {
     "data": {
      "text/plain": [
       "array([ 0,  1,  2,  3,  4,  5,  6,  7,  8,  9, 10])"
      ]
     },
     "execution_count": 2,
     "metadata": {},
     "output_type": "execute_result"
    }
   ],
   "source": [
    "arr = np.arange(0,11)\n",
    "arr"
   ]
  },
  {
   "cell_type": "markdown",
   "id": "0f46f276",
   "metadata": {},
   "source": [
    "\n",
    ">**1. Array with Array Operations:**"
   ]
  },
  {
   "cell_type": "code",
   "execution_count": 3,
   "id": "cfad742e",
   "metadata": {},
   "outputs": [
    {
     "data": {
      "text/plain": [
       "array([ 0,  2,  4,  6,  8, 10, 12, 14, 16, 18, 20])"
      ]
     },
     "execution_count": 3,
     "metadata": {},
     "output_type": "execute_result"
    }
   ],
   "source": [
    "arr + arr"
   ]
  },
  {
   "cell_type": "code",
   "execution_count": 4,
   "id": "bd98998e",
   "metadata": {},
   "outputs": [
    {
     "data": {
      "text/plain": [
       "array([  0,   1,   4,   9,  16,  25,  36,  49,  64,  81, 100])"
      ]
     },
     "execution_count": 4,
     "metadata": {},
     "output_type": "execute_result"
    }
   ],
   "source": [
    "arr * arr \n",
    "# ....etc all operations"
   ]
  },
  {
   "cell_type": "markdown",
   "id": "8faa75fb",
   "metadata": {},
   "source": [
    ">**2. Array with Scalars Operations:**"
   ]
  },
  {
   "cell_type": "code",
   "execution_count": 5,
   "id": "520bd5c8",
   "metadata": {},
   "outputs": [
    {
     "data": {
      "text/plain": [
       "array([100, 101, 102, 103, 104, 105, 106, 107, 108, 109, 110])"
      ]
     },
     "execution_count": 5,
     "metadata": {},
     "output_type": "execute_result"
    }
   ],
   "source": [
    "arr + 100"
   ]
  },
  {
   "cell_type": "code",
   "execution_count": 6,
   "id": "69966c52",
   "metadata": {},
   "outputs": [
    {
     "data": {
      "text/plain": [
       "array([-100,  -99,  -98,  -97,  -96,  -95,  -94,  -93,  -92,  -91,  -90])"
      ]
     },
     "execution_count": 6,
     "metadata": {},
     "output_type": "execute_result"
    }
   ],
   "source": [
    "arr - 100 "
   ]
  },
  {
   "cell_type": "code",
   "execution_count": 7,
   "id": "976793b3",
   "metadata": {},
   "outputs": [
    {
     "data": {
      "text/plain": [
       "array([  0,   1,   4,   9,  16,  25,  36,  49,  64,  81, 100], dtype=int32)"
      ]
     },
     "execution_count": 7,
     "metadata": {},
     "output_type": "execute_result"
    }
   ],
   "source": [
    "arr ** 2"
   ]
  },
  {
   "cell_type": "code",
   "execution_count": 8,
   "id": "b39ebbea",
   "metadata": {},
   "outputs": [
    {
     "ename": "ZeroDivisionError",
     "evalue": "division by zero",
     "output_type": "error",
     "traceback": [
      "\u001b[1;31m---------------------------------------------------------------------------\u001b[0m",
      "\u001b[1;31mZeroDivisionError\u001b[0m                         Traceback (most recent call last)",
      "\u001b[1;32m~\\AppData\\Local\\Temp/ipykernel_21416/1038325951.py\u001b[0m in \u001b[0;36m<module>\u001b[1;34m\u001b[0m\n\u001b[0;32m      1\u001b[0m \u001b[1;31m# IMP - Normal one gives ERROR\u001b[0m\u001b[1;33m\u001b[0m\u001b[1;33m\u001b[0m\u001b[0m\n\u001b[1;32m----> 2\u001b[1;33m \u001b[1;36m1\u001b[0m\u001b[1;33m/\u001b[0m\u001b[1;36m0\u001b[0m\u001b[1;33m\u001b[0m\u001b[1;33m\u001b[0m\u001b[0m\n\u001b[0m",
      "\u001b[1;31mZeroDivisionError\u001b[0m: division by zero"
     ]
    }
   ],
   "source": [
    "# IMP - Normal one gives ERROR\n",
    "1/0"
   ]
  },
  {
   "cell_type": "code",
   "execution_count": null,
   "id": "852684f8",
   "metadata": {},
   "outputs": [],
   "source": [
    "# NumPy only Gives WARNING\n",
    "# first element -> 0/0 , O?P -> nan\n",
    "arr / arr"
   ]
  },
  {
   "cell_type": "code",
   "execution_count": 9,
   "id": "8010fa08",
   "metadata": {},
   "outputs": [
    {
     "name": "stderr",
     "output_type": "stream",
     "text": [
      "C:\\Users\\ABCD\\AppData\\Local\\Temp/ipykernel_21416/2473141178.py:2: RuntimeWarning: divide by zero encountered in true_divide\n",
      "  1 / arr\n"
     ]
    },
    {
     "data": {
      "text/plain": [
       "array([       inf, 1.        , 0.5       , 0.33333333, 0.25      ,\n",
       "       0.2       , 0.16666667, 0.14285714, 0.125     , 0.11111111,\n",
       "       0.1       ])"
      ]
     },
     "execution_count": 9,
     "metadata": {},
     "output_type": "execute_result"
    }
   ],
   "source": [
    "# first element -> 1/0 , O/P -> inf\n",
    "1 / arr"
   ]
  },
  {
   "cell_type": "markdown",
   "id": "898fa926",
   "metadata": {},
   "source": [
    "---"
   ]
  },
  {
   "cell_type": "markdown",
   "id": "28e1221d",
   "metadata": {},
   "source": [
    ">**2. Universal Array Functions:**"
   ]
  },
  {
   "cell_type": "code",
   "execution_count": 10,
   "id": "39482b09",
   "metadata": {
    "scrolled": true
   },
   "outputs": [
    {
     "data": {
      "text/plain": [
       "array([0.        , 1.        , 1.41421356, 1.73205081, 2.        ,\n",
       "       2.23606798, 2.44948974, 2.64575131, 2.82842712, 3.        ,\n",
       "       3.16227766])"
      ]
     },
     "execution_count": 10,
     "metadata": {},
     "output_type": "execute_result"
    }
   ],
   "source": [
    "# 1. Square root of every elements\n",
    "np.sqrt(arr)"
   ]
  },
  {
   "cell_type": "code",
   "execution_count": 13,
   "id": "c6be66f8",
   "metadata": {},
   "outputs": [
    {
     "data": {
      "text/plain": [
       "array([1.00000000e+00, 2.71828183e+00, 7.38905610e+00, 2.00855369e+01,\n",
       "       5.45981500e+01, 1.48413159e+02, 4.03428793e+02, 1.09663316e+03,\n",
       "       2.98095799e+03, 8.10308393e+03, 2.20264658e+04])"
      ]
     },
     "execution_count": 13,
     "metadata": {},
     "output_type": "execute_result"
    }
   ],
   "source": [
    "# 2. Calculating Exponential of every elements ()\n",
    "np.exp(arr)"
   ]
  },
  {
   "cell_type": "code",
   "execution_count": 27,
   "id": "34227a4d",
   "metadata": {},
   "outputs": [
    {
     "data": {
      "text/plain": [
       "0"
      ]
     },
     "execution_count": 27,
     "metadata": {},
     "output_type": "execute_result"
    }
   ],
   "source": [
    "# 3. Finding Maximum/Minimum element\n",
    "np.max(arr)\n",
    "# np.min(arr)\n",
    "    #OR\n",
    "arr.max()\n",
    "# arr.min()"
   ]
  },
  {
   "cell_type": "code",
   "execution_count": 16,
   "id": "da22a1e5",
   "metadata": {},
   "outputs": [
    {
     "data": {
      "text/plain": [
       "array([ 1.        ,  0.54030231, -0.41614684, -0.9899925 , -0.65364362,\n",
       "        0.28366219,  0.96017029,  0.75390225, -0.14550003, -0.91113026,\n",
       "       -0.83907153])"
      ]
     },
     "execution_count": 16,
     "metadata": {},
     "output_type": "execute_result"
    }
   ],
   "source": [
    "# 4. Performing Trigonometric Operations on every element\n",
    "np.sin(arr)\n",
    "np.cos(arr)\n",
    "#     ......etc"
   ]
  },
  {
   "cell_type": "code",
   "execution_count": 18,
   "id": "f4478f0d",
   "metadata": {},
   "outputs": [
    {
     "name": "stderr",
     "output_type": "stream",
     "text": [
      "C:\\Users\\ABCD\\AppData\\Local\\Temp/ipykernel_21416/3553873897.py:2: RuntimeWarning: divide by zero encountered in log\n",
      "  np.log(arr)\n"
     ]
    },
    {
     "data": {
      "text/plain": [
       "array([      -inf, 0.        , 0.69314718, 1.09861229, 1.38629436,\n",
       "       1.60943791, 1.79175947, 1.94591015, 2.07944154, 2.19722458,\n",
       "       2.30258509])"
      ]
     },
     "execution_count": 18,
     "metadata": {},
     "output_type": "execute_result"
    }
   ],
   "source": [
    "# 5. Performing LOGARITHMATIC Operations on every element\n",
    "np.log(arr)"
   ]
  },
  {
   "cell_type": "code",
   "execution_count": 21,
   "id": "c4a2067e",
   "metadata": {},
   "outputs": [
    {
     "data": {
      "text/plain": [
       "55"
      ]
     },
     "execution_count": 21,
     "metadata": {},
     "output_type": "execute_result"
    }
   ],
   "source": [
    "# 5. Finding Sum of every Elements\n",
    "np.sum(arr)\n",
    "#OR \n",
    "arr.sum()"
   ]
  },
  {
   "cell_type": "code",
   "execution_count": 22,
   "id": "a16d719c",
   "metadata": {},
   "outputs": [
    {
     "data": {
      "text/plain": [
       "3.1622776601683795"
      ]
     },
     "execution_count": 22,
     "metadata": {},
     "output_type": "execute_result"
    }
   ],
   "source": [
    "# 6. Finding Standard Deviation\n",
    "np.std(arr)\n",
    "#OR\n",
    "arr.std()"
   ]
  },
  {
   "cell_type": "markdown",
   "id": "a4f28320",
   "metadata": {},
   "source": [
    "---"
   ]
  },
  {
   "cell_type": "code",
   "execution_count": 23,
   "id": "bd5d561b",
   "metadata": {},
   "outputs": [
    {
     "data": {
      "text/plain": [
       "array([[ 1,  2,  3,  4,  5],\n",
       "       [ 6,  7,  8,  9, 10],\n",
       "       [11, 12, 13, 14, 15],\n",
       "       [16, 17, 18, 19, 20],\n",
       "       [21, 22, 23, 24, 25]])"
      ]
     },
     "execution_count": 23,
     "metadata": {},
     "output_type": "execute_result"
    }
   ],
   "source": [
    "arr_2d = np.arange(1,26).reshape(5,5)\n",
    "arr_2d"
   ]
  },
  {
   "cell_type": "code",
   "execution_count": null,
   "id": "67a51dc6",
   "metadata": {},
   "outputs": [],
   "source": [
    "# Getting the sum of all the columns in arr_2d"
   ]
  },
  {
   "cell_type": "code",
   "execution_count": 26,
   "id": "aa0887ef",
   "metadata": {},
   "outputs": [
    {
     "data": {
      "text/plain": [
       "array([55, 60, 65, 70, 75])"
      ]
     },
     "execution_count": 26,
     "metadata": {},
     "output_type": "execute_result"
    }
   ],
   "source": [
    "# Here axis=0, means all the columns\n",
    "# axis=1, means all the rows\n",
    "\n",
    "np.sum(arr_2d, axis=0)\n",
    "# OR\n",
    "arr_2d.sum(axis=0)"
   ]
  },
  {
   "cell_type": "markdown",
   "id": "e88a20d2",
   "metadata": {},
   "source": [
    "---"
   ]
  },
  {
   "cell_type": "markdown",
   "id": "ef0f7bbe",
   "metadata": {},
   "source": [
    "# Many more [Universal Array Functions 😁](https://numpy.org/doc/stable/reference/ufuncs.html)"
   ]
  }
 ],
 "metadata": {
  "kernelspec": {
   "display_name": "Python 3 (ipykernel)",
   "language": "python",
   "name": "python3"
  },
  "language_info": {
   "codemirror_mode": {
    "name": "ipython",
    "version": 3
   },
   "file_extension": ".py",
   "mimetype": "text/x-python",
   "name": "python",
   "nbconvert_exporter": "python",
   "pygments_lexer": "ipython3",
   "version": "3.9.7"
  }
 },
 "nbformat": 4,
 "nbformat_minor": 5
}
