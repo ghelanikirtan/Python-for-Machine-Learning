{
 "cells": [
  {
   "cell_type": "markdown",
   "id": "2248f71a",
   "metadata": {},
   "source": [
    "# NumPy Axis :"
   ]
  },
  {
   "cell_type": "code",
   "execution_count": 1,
   "id": "13d91dca",
   "metadata": {},
   "outputs": [],
   "source": [
    "import numpy as np"
   ]
  },
  {
   "cell_type": "code",
   "execution_count": 2,
   "id": "ab94ec64",
   "metadata": {},
   "outputs": [
    {
     "data": {
      "text/plain": [
       "array([0, 1, 2, 3, 4, 5, 6, 7, 8, 9])"
      ]
     },
     "execution_count": 2,
     "metadata": {},
     "output_type": "execute_result"
    }
   ],
   "source": [
    "arr = np.arange(10)\n",
    "arr"
   ]
  },
  {
   "cell_type": "code",
   "execution_count": 3,
   "id": "6e03d4f1",
   "metadata": {},
   "outputs": [
    {
     "data": {
      "text/plain": [
       "array([[0, 1, 2, 3, 4],\n",
       "       [5, 6, 7, 8, 9]])"
      ]
     },
     "execution_count": 3,
     "metadata": {},
     "output_type": "execute_result"
    }
   ],
   "source": [
    "arr_2d = arr.reshape(2,5)\n",
    "arr_2d"
   ]
  },
  {
   "cell_type": "code",
   "execution_count": 4,
   "id": "330fd1c0",
   "metadata": {},
   "outputs": [
    {
     "data": {
      "text/plain": [
       "array([[[ 0,  1,  2],\n",
       "        [ 3,  4,  5],\n",
       "        [ 6,  7,  8]],\n",
       "\n",
       "       [[ 9, 10, 11],\n",
       "        [12, 13, 14],\n",
       "        [15, 16, 17]],\n",
       "\n",
       "       [[18, 19, 20],\n",
       "        [21, 22, 23],\n",
       "        [24, 25, 26]]])"
      ]
     },
     "execution_count": 4,
     "metadata": {},
     "output_type": "execute_result"
    }
   ],
   "source": [
    "arr_3d = np.arange(27).reshape(3, 3, 3)\n",
    "arr_3d"
   ]
  },
  {
   "cell_type": "markdown",
   "id": "77141484",
   "metadata": {},
   "source": [
    "**1. Here, an array *'arr'* is 1-D array so it has *[axis=0]*.**"
   ]
  },
  {
   "cell_type": "markdown",
   "id": "f4a177c5",
   "metadata": {},
   "source": [
    "**2. Here, an array *'arr_2d* is 2-D array so it has *[axis=0,axis=1]*.**"
   ]
  },
  {
   "cell_type": "markdown",
   "id": "29ed3cc5",
   "metadata": {},
   "source": [
    "- **axis = 0**, here represents **rows** (i.e. r1,r2,r3,...)\n",
    "- **axis = 1**, here represents **columns** (i.e. c1,c2,c3,...)"
   ]
  },
  {
   "cell_type": "code",
   "execution_count": 5,
   "id": "7a313abe",
   "metadata": {},
   "outputs": [
    {
     "data": {
      "text/plain": [
       "array([[0, 1, 2, 3, 4],\n",
       "       [5, 6, 7, 8, 9]])"
      ]
     },
     "execution_count": 5,
     "metadata": {},
     "output_type": "execute_result"
    }
   ],
   "source": [
    "arr_2d"
   ]
  },
  {
   "cell_type": "code",
   "execution_count": 6,
   "id": "558c0dcc",
   "metadata": {},
   "outputs": [
    {
     "data": {
      "text/plain": [
       "array([ 5,  7,  9, 11, 13])"
      ]
     },
     "execution_count": 6,
     "metadata": {},
     "output_type": "execute_result"
    }
   ],
   "source": [
    "# USE of axis :\n",
    "# Finding sum of elements of arr_2d in column wise\n",
    "# i.e. sum at axis=0\n",
    "arr_2d.sum(axis=0)"
   ]
  },
  {
   "cell_type": "code",
   "execution_count": 7,
   "id": "aaf0e1bd",
   "metadata": {},
   "outputs": [
    {
     "data": {
      "text/plain": [
       "array([10, 35])"
      ]
     },
     "execution_count": 7,
     "metadata": {},
     "output_type": "execute_result"
    }
   ],
   "source": [
    "# Finding sum of elements of arr_2d in row wise\n",
    "# i.e. sum at axis=1\n",
    "np.sum(arr_2d, axis=1)"
   ]
  },
  {
   "cell_type": "code",
   "execution_count": 8,
   "id": "5e2be7be",
   "metadata": {},
   "outputs": [],
   "source": [
    "# More examples"
   ]
  },
  {
   "cell_type": "code",
   "execution_count": 9,
   "id": "20be7f45",
   "metadata": {},
   "outputs": [
    {
     "data": {
      "text/plain": [
       "2.8722813232690143"
      ]
     },
     "execution_count": 9,
     "metadata": {},
     "output_type": "execute_result"
    }
   ],
   "source": [
    "# step-deviation\n",
    "arr_2d.std()"
   ]
  },
  {
   "cell_type": "code",
   "execution_count": 10,
   "id": "a7101096",
   "metadata": {},
   "outputs": [
    {
     "data": {
      "text/plain": [
       "array([2.5, 2.5, 2.5, 2.5, 2.5])"
      ]
     },
     "execution_count": 10,
     "metadata": {},
     "output_type": "execute_result"
    }
   ],
   "source": [
    "# Column-wise step-deviation\n",
    "arr_2d.std(axis=0)"
   ]
  },
  {
   "cell_type": "code",
   "execution_count": 11,
   "id": "dea2153b",
   "metadata": {},
   "outputs": [
    {
     "data": {
      "text/plain": [
       "array([1.41421356, 1.41421356])"
      ]
     },
     "execution_count": 11,
     "metadata": {},
     "output_type": "execute_result"
    }
   ],
   "source": [
    "# row-wise step-deviation\n",
    "arr_2d.std(axis=1)"
   ]
  },
  {
   "cell_type": "markdown",
   "id": "73471a5c",
   "metadata": {},
   "source": [
    "---"
   ]
  },
  {
   "cell_type": "code",
   "execution_count": 15,
   "id": "6e2ec210",
   "metadata": {},
   "outputs": [
    {
     "data": {
      "text/plain": [
       "array([[ 3, 12, 21],\n",
       "       [30, 39, 48],\n",
       "       [57, 66, 75]])"
      ]
     },
     "execution_count": 15,
     "metadata": {},
     "output_type": "execute_result"
    }
   ],
   "source": [
    "# Extras\n",
    "arr_3d.sum(axis=2)"
   ]
  },
  {
   "cell_type": "code",
   "execution_count": null,
   "id": "b8336b2c",
   "metadata": {},
   "outputs": [],
   "source": []
  }
 ],
 "metadata": {
  "kernelspec": {
   "display_name": "Python 3 (ipykernel)",
   "language": "python",
   "name": "python3"
  },
  "language_info": {
   "codemirror_mode": {
    "name": "ipython",
    "version": 3
   },
   "file_extension": ".py",
   "mimetype": "text/x-python",
   "name": "python",
   "nbconvert_exporter": "python",
   "pygments_lexer": "ipython3",
   "version": "3.9.7"
  }
 },
 "nbformat": 4,
 "nbformat_minor": 5
}
