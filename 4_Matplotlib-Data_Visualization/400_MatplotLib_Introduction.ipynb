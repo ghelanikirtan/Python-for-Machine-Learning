{
 "cells": [
  {
   "cell_type": "markdown",
   "id": "9b6bbd6b",
   "metadata": {},
   "source": [
    "# Matplotlib Introduction :"
   ]
  },
  {
   "cell_type": "markdown",
   "id": "9f1be1ad",
   "metadata": {},
   "source": [
    "- One of the most popular plotting library for Python.\n",
    "- It gives user a control over every aspects of a figure.\n",
    "- It was designed to have a similar feel to MatLab's graphical plotting."
   ]
  },
  {
   "cell_type": "markdown",
   "id": "bfa9da1a",
   "metadata": {},
   "source": [
    "**Some of the major Pros of Matplotlib are:**\n",
    "\n",
    "- Generally easy to get started for simple plots\n",
    "- Support for custom labels and texts\n",
    "- Great control of every element in a figure\n",
    "- High-quality output in many formats\n",
    "- Very customizable in general\n",
    "\n",
    "### Official Website: [MatplotLib](https://matplotlib.org/stable/gallery/index.html) \n",
    "___"
   ]
  },
  {
   "cell_type": "markdown",
   "id": "8921e2a4",
   "metadata": {},
   "source": [
    "# Matplotlib Installation :\n",
    "\n",
    "**`!conda install matplotlib` OR `!pip install matplotlib`**"
   ]
  },
  {
   "cell_type": "code",
   "execution_count": 1,
   "id": "16f5c3ec",
   "metadata": {},
   "outputs": [
    {
     "name": "stdout",
     "output_type": "stream",
     "text": [
      "Collecting package metadata (current_repodata.json): ...working... done\n",
      "Solving environment: ...working... done\n",
      "\n",
      "# All requested packages already installed.\n",
      "\n"
     ]
    }
   ],
   "source": [
    "!conda install matplotlib"
   ]
  },
  {
   "cell_type": "markdown",
   "id": "fb2e99c4",
   "metadata": {},
   "source": [
    "___"
   ]
  },
  {
   "cell_type": "markdown",
   "id": "f2e45806",
   "metadata": {},
   "source": [
    "# Importing :"
   ]
  },
  {
   "cell_type": "code",
   "execution_count": 2,
   "id": "63ab2319",
   "metadata": {},
   "outputs": [],
   "source": [
    "import matplotlib.pyplot as plt"
   ]
  },
  {
   "cell_type": "markdown",
   "id": "fb45fd19",
   "metadata": {},
   "source": [
    "Also use this to show the plots in Jupyter notebook:"
   ]
  },
  {
   "cell_type": "code",
   "execution_count": 3,
   "id": "34e56835",
   "metadata": {},
   "outputs": [],
   "source": [
    "%matplotlib inline"
   ]
  },
  {
   "cell_type": "markdown",
   "id": "38cf74a1",
   "metadata": {},
   "source": [
    "If you are using another editor, you'll use: **plt.show()** at the end of all your plotting commands to have the figure pop up in another window."
   ]
  },
  {
   "cell_type": "markdown",
   "id": "0544921d",
   "metadata": {},
   "source": [
    "___"
   ]
  }
 ],
 "metadata": {
  "kernelspec": {
   "display_name": "Python 3 (ipykernel)",
   "language": "python",
   "name": "python3"
  },
  "language_info": {
   "codemirror_mode": {
    "name": "ipython",
    "version": 3
   },
   "file_extension": ".py",
   "mimetype": "text/x-python",
   "name": "python",
   "nbconvert_exporter": "python",
   "pygments_lexer": "ipython3",
   "version": "3.9.7"
  }
 },
 "nbformat": 4,
 "nbformat_minor": 5
}
