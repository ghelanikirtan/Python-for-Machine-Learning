{
 "cells": [
  {
   "cell_type": "markdown",
   "id": "5dbca5a7",
   "metadata": {},
   "source": [
    "# SETS :"
   ]
  },
  {
   "cell_type": "markdown",
   "id": "f7482456",
   "metadata": {},
   "source": [
    "*syntax* - `set = {1, 2, 3}`\n",
    "- Set is defined by only unique elements (i.e. no same elements present)"
   ]
  },
  {
   "cell_type": "code",
   "execution_count": 2,
   "id": "a4a23b6c",
   "metadata": {},
   "outputs": [
    {
     "data": {
      "text/plain": [
       "{0, 1, 2, 3}"
      ]
     },
     "execution_count": 2,
     "metadata": {},
     "output_type": "execute_result"
    }
   ],
   "source": [
    "# set - Collection of unique elements (looks similar to dictionaries, but they don't have colons (:)\n",
    "{0,1,2,3}"
   ]
  },
  {
   "cell_type": "code",
   "execution_count": 3,
   "id": "dd1246c5",
   "metadata": {},
   "outputs": [
    {
     "data": {
      "text/plain": [
       "{1, 2, 3}"
      ]
     },
     "execution_count": 3,
     "metadata": {},
     "output_type": "execute_result"
    }
   ],
   "source": [
    "# sets removes duplicate elements automatically\n",
    "{1,1,1,2,2,3,3,3,}"
   ]
  },
  {
   "cell_type": "markdown",
   "id": "abf0d74b",
   "metadata": {},
   "source": [
    "> **ADDING an Element in a SET :**"
   ]
  },
  {
   "cell_type": "markdown",
   "id": "2ed1af94",
   "metadata": {},
   "source": [
    "*syntax* - `setVariable.add(Element)`"
   ]
  },
  {
   "cell_type": "code",
   "execution_count": 30,
   "id": "3b0a5a6d",
   "metadata": {},
   "outputs": [],
   "source": [
    "s = {0,2,4}"
   ]
  },
  {
   "cell_type": "code",
   "execution_count": 31,
   "id": "c779693a",
   "metadata": {},
   "outputs": [],
   "source": [
    "s.add(6) \n",
    "    #trying to add this again won't give Error. But it will also not repeat the same element"
   ]
  },
  {
   "cell_type": "code",
   "execution_count": 32,
   "id": "b6074522",
   "metadata": {},
   "outputs": [
    {
     "data": {
      "text/plain": [
       "{0, 2, 4, 6}"
      ]
     },
     "execution_count": 32,
     "metadata": {},
     "output_type": "execute_result"
    }
   ],
   "source": [
    "s"
   ]
  },
  {
   "cell_type": "markdown",
   "id": "ef6136e5",
   "metadata": {},
   "source": [
    "> **Passing each element of string in a set**"
   ]
  },
  {
   "cell_type": "markdown",
   "id": "16ba6959",
   "metadata": {},
   "source": [
    "*Syntax*- `s = set('yourString')`"
   ]
  },
  {
   "cell_type": "code",
   "execution_count": 33,
   "id": "8371d351",
   "metadata": {},
   "outputs": [
    {
     "data": {
      "text/plain": [
       "{'a', 'd', 'f', 'w'}"
      ]
     },
     "execution_count": 33,
     "metadata": {},
     "output_type": "execute_result"
    }
   ],
   "source": [
    "s = set('awdawf')\n",
    "s"
   ]
  },
  {
   "cell_type": "markdown",
   "id": "8a0c87cd",
   "metadata": {},
   "source": [
    "# SETS Operations :"
   ]
  },
  {
   "cell_type": "code",
   "execution_count": 34,
   "id": "c57cd5f4",
   "metadata": {},
   "outputs": [],
   "source": [
    "a = set('abeibsdkvi')\n",
    "b = set('addjsadnj')"
   ]
  },
  {
   "cell_type": "code",
   "execution_count": 35,
   "id": "18a05f9d",
   "metadata": {},
   "outputs": [
    {
     "data": {
      "text/plain": [
       "{'b', 'e', 'i', 'k', 'v'}"
      ]
     },
     "execution_count": 35,
     "metadata": {},
     "output_type": "execute_result"
    }
   ],
   "source": [
    "# unique letter in a\n",
    "a - b"
   ]
  },
  {
   "cell_type": "code",
   "execution_count": 36,
   "id": "4df550ea",
   "metadata": {},
   "outputs": [
    {
     "data": {
      "text/plain": [
       "{'a', 'b', 'd', 'e', 'i', 'j', 'k', 'n', 's', 'v'}"
      ]
     },
     "execution_count": 36,
     "metadata": {},
     "output_type": "execute_result"
    }
   ],
   "source": [
    "# letters in a OR b OR both\n",
    "a | b"
   ]
  },
  {
   "cell_type": "code",
   "execution_count": 37,
   "id": "5b341dec",
   "metadata": {},
   "outputs": [
    {
     "data": {
      "text/plain": [
       "{'a', 'd', 's'}"
      ]
     },
     "execution_count": 37,
     "metadata": {},
     "output_type": "execute_result"
    }
   ],
   "source": [
    "# letters in a AND b\n",
    "a & b"
   ]
  },
  {
   "cell_type": "code",
   "execution_count": 38,
   "id": "746a5f47",
   "metadata": {},
   "outputs": [
    {
     "data": {
      "text/plain": [
       "{'b', 'e', 'i', 'j', 'k', 'n', 'v'}"
      ]
     },
     "execution_count": 38,
     "metadata": {},
     "output_type": "execute_result"
    }
   ],
   "source": [
    "# letters in a OR b but not both\n",
    "a ^ b"
   ]
  }
 ],
 "metadata": {
  "kernelspec": {
   "display_name": "Python 3 (ipykernel)",
   "language": "python",
   "name": "python3"
  },
  "language_info": {
   "codemirror_mode": {
    "name": "ipython",
    "version": 3
   },
   "file_extension": ".py",
   "mimetype": "text/x-python",
   "name": "python",
   "nbconvert_exporter": "python",
   "pygments_lexer": "ipython3",
   "version": "3.9.7"
  }
 },
 "nbformat": 4,
 "nbformat_minor": 5
}
