{
 "cells": [
  {
   "cell_type": "markdown",
   "id": "1eb4917f",
   "metadata": {},
   "source": [
    "#  Variable Assignment :"
   ]
  },
  {
   "cell_type": "code",
   "execution_count": 1,
   "id": "dfa8cbfe",
   "metadata": {},
   "outputs": [],
   "source": [
    "variableName = 3 #(data)\n",
    "    #for example\n",
    "x = 2\n",
    "y = 3"
   ]
  },
  {
   "cell_type": "code",
   "execution_count": 2,
   "id": "f7e7e015",
   "metadata": {},
   "outputs": [
    {
     "data": {
      "text/plain": [
       "5"
      ]
     },
     "execution_count": 2,
     "metadata": {},
     "output_type": "execute_result"
    }
   ],
   "source": [
    "x+y"
   ]
  },
  {
   "cell_type": "code",
   "execution_count": 3,
   "id": "a7179943",
   "metadata": {},
   "outputs": [],
   "source": [
    "x = x+x"
   ]
  },
  {
   "cell_type": "code",
   "execution_count": 4,
   "id": "9295dd73",
   "metadata": {},
   "outputs": [
    {
     "data": {
      "text/plain": [
       "4"
      ]
     },
     "execution_count": 4,
     "metadata": {},
     "output_type": "execute_result"
    }
   ],
   "source": [
    "x"
   ]
  },
  {
   "cell_type": "markdown",
   "id": "dc0eebc7",
   "metadata": {},
   "source": [
    ">***(Remember : python gives error for leaving whitespaces)***"
   ]
  },
  {
   "cell_type": "markdown",
   "id": "0c927bd8",
   "metadata": {},
   "source": [
    "---"
   ]
  },
  {
   "cell_type": "markdown",
   "id": "b979d597",
   "metadata": {},
   "source": [
    "# String Operations : "
   ]
  },
  {
   "cell_type": "code",
   "execution_count": 6,
   "id": "0a6653f1",
   "metadata": {},
   "outputs": [],
   "source": [
    "x = 'hello'"
   ]
  },
  {
   "cell_type": "code",
   "execution_count": 9,
   "id": "57ecfde2",
   "metadata": {},
   "outputs": [
    {
     "data": {
      "text/plain": [
       "'hello'"
      ]
     },
     "execution_count": 9,
     "metadata": {},
     "output_type": "execute_result"
    }
   ],
   "source": [
    "x"
   ]
  },
  {
   "cell_type": "code",
   "execution_count": 10,
   "id": "5890c50d",
   "metadata": {},
   "outputs": [
    {
     "name": "stdout",
     "output_type": "stream",
     "text": [
      "hello\n"
     ]
    }
   ],
   "source": [
    "print(x)"
   ]
  },
  {
   "cell_type": "code",
   "execution_count": 73,
   "id": "f73224bc",
   "metadata": {},
   "outputs": [],
   "source": [
    "num = 10\n",
    "firstName = 'KIRTAN'\n",
    "lastName = 'GHELANI'\n",
    "sentence = 'My number is {} and my name is {} {}'\n",
    "fullName = firstName+' '+lastName"
   ]
  },
  {
   "cell_type": "markdown",
   "id": "e98fd67d",
   "metadata": {},
   "source": [
    "> ***format() function - putting input in string***"
   ]
  },
  {
   "cell_type": "markdown",
   "id": "f3bcc7f4",
   "metadata": {},
   "source": [
    "*Syntax* - `newStringName.format(single, multipleVariables)`"
   ]
  },
  {
   "cell_type": "code",
   "execution_count": 46,
   "id": "693920bb",
   "metadata": {},
   "outputs": [
    {
     "data": {
      "text/plain": [
       "'My number is 10 and my name is KIRTAN'"
      ]
     },
     "execution_count": 46,
     "metadata": {},
     "output_type": "execute_result"
    }
   ],
   "source": [
    "#TYPE 1 :    \n",
    "'My number is {} and my name is {}'.format(num, firstName)"
   ]
  },
  {
   "cell_type": "code",
   "execution_count": 47,
   "id": "21cfbbba",
   "metadata": {},
   "outputs": [
    {
     "data": {
      "text/plain": [
       "'My number is 10 and my name is GHELANI'"
      ]
     },
     "execution_count": 47,
     "metadata": {},
     "output_type": "execute_result"
    }
   ],
   "source": [
    "#TYPE 2 :    \n",
    "'My number is {a} and my name is {b}'.format(a = num, b = lastName)"
   ]
  },
  {
   "cell_type": "code",
   "execution_count": 60,
   "id": "a1464b79",
   "metadata": {},
   "outputs": [
    {
     "data": {
      "text/plain": [
       "'My number is 10 and my name is KIRTAN GHELANI'"
      ]
     },
     "execution_count": 60,
     "metadata": {},
     "output_type": "execute_result"
    }
   ],
   "source": [
    "#TYPE 3 :    \n",
    "ans = sentence.format(num, firstName, lastName)\n",
    "ans #print"
   ]
  },
  {
   "cell_type": "code",
   "execution_count": 87,
   "id": "21cded16",
   "metadata": {},
   "outputs": [
    {
     "data": {
      "text/plain": [
       "'Name : KIRTAN G'"
      ]
     },
     "execution_count": 87,
     "metadata": {},
     "output_type": "execute_result"
    }
   ],
   "source": [
    "'Name : {} {}'.format(firstName, lastName[0]) #fetching specific element from string"
   ]
  },
  {
   "cell_type": "markdown",
   "id": "38c4e0e2",
   "metadata": {},
   "source": [
    ">***Slice function [from:to ] - slicing a string to form substring***"
   ]
  },
  {
   "cell_type": "markdown",
   "id": "b5852432",
   "metadata": {},
   "source": [
    "*Syntax* - `stringName[from/indexNumber : to/(n-1)Element]`"
   ]
  },
  {
   "cell_type": "code",
   "execution_count": 7,
   "id": "21012c98",
   "metadata": {},
   "outputs": [],
   "source": [
    "numberString = '0123456789'"
   ]
  },
  {
   "cell_type": "code",
   "execution_count": 8,
   "id": "46fa804a",
   "metadata": {},
   "outputs": [
    {
     "data": {
      "text/plain": [
       "'234567'"
      ]
     },
     "execution_count": 8,
     "metadata": {},
     "output_type": "execute_result"
    }
   ],
   "source": [
    "numberString[2:8]"
   ]
  },
  {
   "cell_type": "code",
   "execution_count": 77,
   "id": "c06a95cc",
   "metadata": {},
   "outputs": [
    {
     "data": {
      "text/plain": [
       "'KIRTAN'"
      ]
     },
     "execution_count": 77,
     "metadata": {},
     "output_type": "execute_result"
    }
   ],
   "source": [
    "fullName[:6]"
   ]
  },
  {
   "cell_type": "code",
   "execution_count": 79,
   "id": "7e6d9799",
   "metadata": {},
   "outputs": [
    {
     "data": {
      "text/plain": [
       "'GHELANI'"
      ]
     },
     "execution_count": 79,
     "metadata": {},
     "output_type": "execute_result"
    }
   ],
   "source": [
    "fullName[7:]"
   ]
  },
  {
   "cell_type": "code",
   "execution_count": 86,
   "id": "9f76aa8b",
   "metadata": {},
   "outputs": [
    {
     "data": {
      "text/plain": [
       "'N G'"
      ]
     },
     "execution_count": 86,
     "metadata": {},
     "output_type": "execute_result"
    }
   ],
   "source": [
    "fullName[5:8]"
   ]
  }
 ],
 "metadata": {
  "kernelspec": {
   "display_name": "Python 3 (ipykernel)",
   "language": "python",
   "name": "python3"
  },
  "language_info": {
   "codemirror_mode": {
    "name": "ipython",
    "version": 3
   },
   "file_extension": ".py",
   "mimetype": "text/x-python",
   "name": "python",
   "nbconvert_exporter": "python",
   "pygments_lexer": "ipython3",
   "version": "3.9.7"
  }
 },
 "nbformat": 4,
 "nbformat_minor": 5
}
