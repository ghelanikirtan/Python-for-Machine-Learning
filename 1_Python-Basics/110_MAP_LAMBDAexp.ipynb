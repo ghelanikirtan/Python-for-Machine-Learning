{
 "cells": [
  {
   "cell_type": "markdown",
   "id": "43de1516",
   "metadata": {},
   "source": [
    "# MAP Function :"
   ]
  },
  {
   "cell_type": "markdown",
   "id": "ba160efc",
   "metadata": {},
   "source": [
    "*Syntax* - `outputType( map( functionName, listName))`"
   ]
  },
  {
   "cell_type": "code",
   "execution_count": 23,
   "id": "dddfc3e7",
   "metadata": {},
   "outputs": [
    {
     "data": {
      "text/plain": [
       "9"
      ]
     },
     "execution_count": 23,
     "metadata": {},
     "output_type": "execute_result"
    }
   ],
   "source": [
    "def square(n):return n**2\n",
    "\n",
    "square(3)"
   ]
  },
  {
   "cell_type": "code",
   "execution_count": 24,
   "id": "53700558",
   "metadata": {},
   "outputs": [],
   "source": [
    "# using map function"
   ]
  },
  {
   "cell_type": "code",
   "execution_count": 25,
   "id": "828e6794",
   "metadata": {},
   "outputs": [],
   "source": [
    "seq = [1,2,3,4,5]\n",
    "#we can square all the elements using map function at a time"
   ]
  },
  {
   "cell_type": "code",
   "execution_count": 26,
   "id": "a99a8c73",
   "metadata": {},
   "outputs": [
    {
     "data": {
      "text/plain": [
       "[1, 4, 9, 16, 25]"
      ]
     },
     "execution_count": 26,
     "metadata": {},
     "output_type": "execute_result"
    }
   ],
   "source": [
    "seqSquare = list(map(square, seq))\n",
    "seqSquare"
   ]
  },
  {
   "cell_type": "markdown",
   "id": "7e0fbf5c",
   "metadata": {},
   "source": [
    "> **LAMBDA EXPRESSION**"
   ]
  },
  {
   "cell_type": "markdown",
   "id": "26b0a78a",
   "metadata": {},
   "source": [
    "- It is used instead of functions in map for convinence"
   ]
  },
  {
   "cell_type": "code",
   "execution_count": 27,
   "id": "a2e1fa1c",
   "metadata": {},
   "outputs": [
    {
     "data": {
      "text/plain": [
       "<function __main__.<lambda>(n)>"
      ]
     },
     "execution_count": 27,
     "metadata": {},
     "output_type": "execute_result"
    }
   ],
   "source": [
    "# def square(n):return n**2  - converting this into lambda\n",
    "lambda n : n**2"
   ]
  },
  {
   "cell_type": "code",
   "execution_count": 28,
   "id": "6278cbcc",
   "metadata": {},
   "outputs": [
    {
     "data": {
      "text/plain": [
       "27"
      ]
     },
     "execution_count": 28,
     "metadata": {},
     "output_type": "execute_result"
    }
   ],
   "source": [
    "#usage (can be saved as normal variable):\n",
    "cube = lambda n:n**3\n",
    "cube(3)"
   ]
  },
  {
   "cell_type": "markdown",
   "id": "97be36c0",
   "metadata": {},
   "source": [
    "> **Using Lambda expression in MAP :**"
   ]
  },
  {
   "cell_type": "code",
   "execution_count": 32,
   "id": "46d5a80d",
   "metadata": {},
   "outputs": [
    {
     "data": {
      "text/plain": [
       "[2, 4, 6, 8, 10]"
      ]
     },
     "execution_count": 32,
     "metadata": {},
     "output_type": "execute_result"
    }
   ],
   "source": [
    "# -> MOST Used (i.e. in Pandas Libraries)\n",
    "list(map(lambda n: n*2, seq))"
   ]
  },
  {
   "cell_type": "code",
   "execution_count": 39,
   "id": "e681d1a8",
   "metadata": {},
   "outputs": [
    {
     "data": {
      "text/plain": [
       "{5, 10, 15, 20, 25}"
      ]
     },
     "execution_count": 39,
     "metadata": {},
     "output_type": "execute_result"
    }
   ],
   "source": [
    "# more examples\n",
    "s = set(map(lambda n: n*5, seq))\n",
    "s"
   ]
  },
  {
   "cell_type": "code",
   "execution_count": 42,
   "id": "1fd3146e",
   "metadata": {},
   "outputs": [
    {
     "data": {
      "text/plain": [
       "[0.5, 4, 1.5, 8, 2.5]"
      ]
     },
     "execution_count": 42,
     "metadata": {},
     "output_type": "execute_result"
    }
   ],
   "source": [
    "# SHORTHAND IF......ELSE statements\n",
    "s = list(map(lambda n : n*2 if n%2==0 else n/2, seq))\n",
    "s"
   ]
  }
 ],
 "metadata": {
  "kernelspec": {
   "display_name": "Python 3 (ipykernel)",
   "language": "python",
   "name": "python3"
  },
  "language_info": {
   "codemirror_mode": {
    "name": "ipython",
    "version": 3
   },
   "file_extension": ".py",
   "mimetype": "text/x-python",
   "name": "python",
   "nbconvert_exporter": "python",
   "pygments_lexer": "ipython3",
   "version": "3.9.7"
  }
 },
 "nbformat": 4,
 "nbformat_minor": 5
}
