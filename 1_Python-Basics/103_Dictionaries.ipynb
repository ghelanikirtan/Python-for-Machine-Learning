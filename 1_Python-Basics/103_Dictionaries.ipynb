{
 "cells": [
  {
   "cell_type": "markdown",
   "id": "77eb9132",
   "metadata": {},
   "source": [
    "# DICTIONARIES :"
   ]
  },
  {
   "cell_type": "markdown",
   "id": "0ba76dae",
   "metadata": {},
   "source": [
    "- Dictionaries don't have any order. Thus, it depends on **key-values** instead of indexing"
   ]
  },
  {
   "cell_type": "markdown",
   "id": "497d85b8",
   "metadata": {},
   "source": [
    "*Syntax* - `d = {'key':'value' , 'key1':123}`"
   ]
  },
  {
   "cell_type": "code",
   "execution_count": 2,
   "id": "22c7c5f3",
   "metadata": {},
   "outputs": [
    {
     "data": {
      "text/plain": [
       "{'key1': 'value', 'key2': 123, 1: 'true', 'list': [0, 1, 'a', 'b']}"
      ]
     },
     "execution_count": 2,
     "metadata": {},
     "output_type": "execute_result"
    }
   ],
   "source": [
    "d = {'key1' : 'value', 'key2' : 123, 1: 'true', 'list':[0,1,'a','b']}\n",
    "d"
   ]
  },
  {
   "cell_type": "code",
   "execution_count": 3,
   "id": "9bf2909b",
   "metadata": {},
   "outputs": [
    {
     "data": {
      "text/plain": [
       "123"
      ]
     },
     "execution_count": 3,
     "metadata": {},
     "output_type": "execute_result"
    }
   ],
   "source": [
    "#fetcing values from dictionaries (similar to hash-tables)\n",
    "d['key2']"
   ]
  },
  {
   "cell_type": "code",
   "execution_count": 4,
   "id": "4bc746d7",
   "metadata": {},
   "outputs": [
    {
     "data": {
      "text/plain": [
       "'true'"
      ]
     },
     "execution_count": 4,
     "metadata": {},
     "output_type": "execute_result"
    }
   ],
   "source": [
    "d[1]"
   ]
  },
  {
   "cell_type": "code",
   "execution_count": 5,
   "id": "5a001bd2",
   "metadata": {},
   "outputs": [
    {
     "data": {
      "text/plain": [
       "[0, 1, 'a', 'b']"
      ]
     },
     "execution_count": 5,
     "metadata": {},
     "output_type": "execute_result"
    }
   ],
   "source": [
    "d['list']"
   ]
  },
  {
   "cell_type": "code",
   "execution_count": 6,
   "id": "96b74c37",
   "metadata": {},
   "outputs": [
    {
     "data": {
      "text/plain": [
       "'a'"
      ]
     },
     "execution_count": 6,
     "metadata": {},
     "output_type": "execute_result"
    }
   ],
   "source": [
    "#fetching ELEMENT from list present in a dictionaries using normal indexing\n",
    "d['list'][2]"
   ]
  },
  {
   "cell_type": "markdown",
   "id": "985dc8e5",
   "metadata": {},
   "source": [
    "## Dictionary Operations :"
   ]
  },
  {
   "cell_type": "markdown",
   "id": "1c4bae48",
   "metadata": {},
   "source": [
    "> ***Nesting a Dictionary :***"
   ]
  },
  {
   "cell_type": "code",
   "execution_count": 44,
   "id": "05d9e521",
   "metadata": {},
   "outputs": [],
   "source": [
    "d = {'k1':{'n_k1' : [0,1,2]}}"
   ]
  },
  {
   "cell_type": "code",
   "execution_count": 45,
   "id": "d24dba24",
   "metadata": {},
   "outputs": [
    {
     "data": {
      "text/plain": [
       "1"
      ]
     },
     "execution_count": 45,
     "metadata": {},
     "output_type": "execute_result"
    }
   ],
   "source": [
    "d['k1']['n_k1'][1]"
   ]
  },
  {
   "cell_type": "code",
   "execution_count": 46,
   "id": "d48285bb",
   "metadata": {},
   "outputs": [],
   "source": [
    "regNo = {'aMen' : 2, 'bMen': 3, 'cMen': 8}"
   ]
  },
  {
   "cell_type": "code",
   "execution_count": 47,
   "id": "38f1c105",
   "metadata": {},
   "outputs": [
    {
     "data": {
      "text/plain": [
       "{'aMen': 2, 'bMen': 3, 'cMen': 8, 'dMen': 12, 'tempMen': 420}"
      ]
     },
     "execution_count": 47,
     "metadata": {},
     "output_type": "execute_result"
    }
   ],
   "source": [
    "# Adding more keys\n",
    "regNo['dMen'] = 12\n",
    "regNo['tempMen'] = 420\n",
    "regNo"
   ]
  },
  {
   "cell_type": "code",
   "execution_count": 48,
   "id": "c5d17234",
   "metadata": {},
   "outputs": [
    {
     "data": {
      "text/plain": [
       "['aMen', 'bMen', 'cMen', 'dMen', 'tempMen']"
      ]
     },
     "execution_count": 48,
     "metadata": {},
     "output_type": "execute_result"
    }
   ],
   "source": [
    "# Passing all the keys into the lists\n",
    "list(regNo)"
   ]
  },
  {
   "cell_type": "code",
   "execution_count": 49,
   "id": "c84f98d7",
   "metadata": {},
   "outputs": [
    {
     "data": {
      "text/plain": [
       "{'aMen': 2, 'bMen': 3, 'cMen': 8, 'dMen': 12}"
      ]
     },
     "execution_count": 49,
     "metadata": {},
     "output_type": "execute_result"
    }
   ],
   "source": [
    "# Deleting a key :\n",
    "del regNo['tempMen']\n",
    "regNo"
   ]
  },
  {
   "cell_type": "code",
   "execution_count": 50,
   "id": "4d5611dc",
   "metadata": {},
   "outputs": [
    {
     "data": {
      "text/plain": [
       "['aMen', 'bMen', 'cMen', 'dMen']"
      ]
     },
     "execution_count": 50,
     "metadata": {},
     "output_type": "execute_result"
    }
   ],
   "source": [
    "# Sorting all the keys :\n",
    "sorted(regNo)"
   ]
  },
  {
   "cell_type": "code",
   "execution_count": 51,
   "id": "77b1e608",
   "metadata": {},
   "outputs": [
    {
     "data": {
      "text/plain": [
       "False"
      ]
     },
     "execution_count": 51,
     "metadata": {},
     "output_type": "execute_result"
    }
   ],
   "source": [
    "# is key present OR not :\n",
    "'tempMen' in regNo"
   ]
  },
  {
   "cell_type": "code",
   "execution_count": 52,
   "id": "e06b1582",
   "metadata": {},
   "outputs": [
    {
     "data": {
      "text/plain": [
       "True"
      ]
     },
     "execution_count": 52,
     "metadata": {},
     "output_type": "execute_result"
    }
   ],
   "source": [
    "# is key present OR not :\n",
    "'bMen' in regNo"
   ]
  },
  {
   "cell_type": "code",
   "execution_count": 53,
   "id": "e0927802",
   "metadata": {},
   "outputs": [
    {
     "data": {
      "text/plain": [
       "['aMen', 'bMen', 'cMen', 'dMen']"
      ]
     },
     "execution_count": 53,
     "metadata": {},
     "output_type": "execute_result"
    }
   ],
   "source": [
    "li = list(regNo)\n",
    "li"
   ]
  },
  {
   "cell_type": "code",
   "execution_count": 59,
   "id": "10e0bd3b",
   "metadata": {},
   "outputs": [
    {
     "name": "stdout",
     "output_type": "stream",
     "text": [
      "aMen : 2\n",
      "bMen : 3\n",
      "cMen : 8\n",
      "dMen : 12\n"
     ]
    }
   ],
   "source": [
    "for keys in regNo:\n",
    "    print(keys,':',regNo[keys])"
   ]
  },
  {
   "cell_type": "code",
   "execution_count": null,
   "id": "fcc88d21",
   "metadata": {},
   "outputs": [],
   "source": []
  }
 ],
 "metadata": {
  "kernelspec": {
   "display_name": "Python 3 (ipykernel)",
   "language": "python",
   "name": "python3"
  },
  "language_info": {
   "codemirror_mode": {
    "name": "ipython",
    "version": 3
   },
   "file_extension": ".py",
   "mimetype": "text/x-python",
   "name": "python",
   "nbconvert_exporter": "python",
   "pygments_lexer": "ipython3",
   "version": "3.9.7"
  }
 },
 "nbformat": 4,
 "nbformat_minor": 5
}
