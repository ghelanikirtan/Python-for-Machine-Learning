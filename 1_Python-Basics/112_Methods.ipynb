{
 "cells": [
  {
   "cell_type": "markdown",
   "id": "bc7721eb",
   "metadata": {},
   "source": [
    "# METHODS :"
   ]
  },
  {
   "cell_type": "markdown",
   "id": "2c35a7a7",
   "metadata": {},
   "source": [
    "> STRING METHODS :"
   ]
  },
  {
   "cell_type": "code",
   "execution_count": 2,
   "id": "f31f3f15",
   "metadata": {},
   "outputs": [],
   "source": [
    "s = \"Bonjour! I'm KIRTAN GHELANI undegoing my CSE Degree\""
   ]
  },
  {
   "cell_type": "code",
   "execution_count": 3,
   "id": "e0cba604",
   "metadata": {},
   "outputs": [
    {
     "data": {
      "text/plain": [
       "\"bonjour! i'm kirtan ghelani undegoing my cse degree\""
      ]
     },
     "execution_count": 3,
     "metadata": {},
     "output_type": "execute_result"
    }
   ],
   "source": [
    "#1\n",
    "s.lower()"
   ]
  },
  {
   "cell_type": "code",
   "execution_count": 4,
   "id": "96cf93f3",
   "metadata": {},
   "outputs": [
    {
     "data": {
      "text/plain": [
       "\"BONJOUR! I'M KIRTAN GHELANI UNDEGOING MY CSE DEGREE\""
      ]
     },
     "execution_count": 4,
     "metadata": {},
     "output_type": "execute_result"
    }
   ],
   "source": [
    "#2\n",
    "s.upper()"
   ]
  },
  {
   "cell_type": "code",
   "execution_count": 5,
   "id": "82bf637b",
   "metadata": {},
   "outputs": [
    {
     "data": {
      "text/plain": [
       "['Bonjour!', \"I'm\", 'KIRTAN', 'GHELANI', 'undegoing', 'my', 'CSE', 'Degree']"
      ]
     },
     "execution_count": 5,
     "metadata": {},
     "output_type": "execute_result"
    }
   ],
   "source": [
    "#3\n",
    "# Split method - IMP\n",
    "# This splits all the whitespaces into lists of items\n",
    "s.split() "
   ]
  },
  {
   "cell_type": "code",
   "execution_count": 6,
   "id": "e7ee9823",
   "metadata": {},
   "outputs": [
    {
     "data": {
      "text/plain": [
       "['Bonjour', \" I'm KIRTAN GHELANI undegoing my CSE Degree\"]"
      ]
     },
     "execution_count": 6,
     "metadata": {},
     "output_type": "execute_result"
    }
   ],
   "source": [
    "# splits string from given argument\n",
    "s.split('!')"
   ]
  },
  {
   "cell_type": "code",
   "execution_count": 7,
   "id": "8a762e7f",
   "metadata": {},
   "outputs": [
    {
     "data": {
      "text/plain": [
       "['', 'famous ', 'pleasure ', 'decent ', 'wonderful ', 'python']"
      ]
     },
     "execution_count": 7,
     "metadata": {},
     "output_type": "execute_result"
    }
   ],
   "source": [
    "# more on SPLIT method\n",
    "hastags = \"#famous #pleasure #decent #wonderful #python\"\n",
    "hastags.split(\"#\")"
   ]
  },
  {
   "cell_type": "code",
   "execution_count": 9,
   "id": "a7d6fecf",
   "metadata": {},
   "outputs": [
    {
     "data": {
      "text/plain": [
       "'pleasure '"
      ]
     },
     "execution_count": 9,
     "metadata": {},
     "output_type": "execute_result"
    }
   ],
   "source": [
    "hastags.split('#')[2]"
   ]
  },
  {
   "cell_type": "code",
   "execution_count": 10,
   "id": "cb0475d7",
   "metadata": {},
   "outputs": [],
   "source": [
    "stringName = \"This is a string.\""
   ]
  },
  {
   "cell_type": "code",
   "execution_count": 13,
   "id": "4032a7ee",
   "metadata": {},
   "outputs": [
    {
     "data": {
      "text/plain": [
       "8"
      ]
     },
     "execution_count": 13,
     "metadata": {},
     "output_type": "execute_result"
    }
   ],
   "source": [
    "#4\n",
    "# find() ; (NOTE : case sensitive)\n",
    "stringName.find('a')"
   ]
  },
  {
   "cell_type": "code",
   "execution_count": 16,
   "id": "df6126e8",
   "metadata": {},
   "outputs": [
    {
     "data": {
      "text/plain": [
       "'This is a file consisting of various datasets.'"
      ]
     },
     "execution_count": 16,
     "metadata": {},
     "output_type": "execute_result"
    }
   ],
   "source": [
    "#5\n",
    "# replace() ; \n",
    "stringName.replace('string', 'file consisting of various datasets')"
   ]
  },
  {
   "cell_type": "markdown",
   "id": "871b962b",
   "metadata": {},
   "source": [
    "---\n"
   ]
  },
  {
   "cell_type": "markdown",
   "id": "ede89ae0",
   "metadata": {},
   "source": [
    "> DICTIONARY METHODS :"
   ]
  },
  {
   "cell_type": "code",
   "execution_count": 36,
   "id": "a1529d16",
   "metadata": {},
   "outputs": [],
   "source": [
    "d = {'k1' : 0, 'k2' : 1, 'k3' : 2}"
   ]
  },
  {
   "cell_type": "code",
   "execution_count": 37,
   "id": "412e2eb4",
   "metadata": {},
   "outputs": [
    {
     "data": {
      "text/plain": [
       "dict_items([('k1', 0), ('k2', 1), ('k3', 2)])"
      ]
     },
     "execution_count": 37,
     "metadata": {},
     "output_type": "execute_result"
    }
   ],
   "source": [
    "d.items()"
   ]
  },
  {
   "cell_type": "code",
   "execution_count": 44,
   "id": "36784759",
   "metadata": {},
   "outputs": [
    {
     "data": {
      "text/plain": [
       "dict_keys(['k1', 'k2', 'k3'])"
      ]
     },
     "execution_count": 44,
     "metadata": {},
     "output_type": "execute_result"
    }
   ],
   "source": [
    "d.keys()"
   ]
  },
  {
   "cell_type": "code",
   "execution_count": 45,
   "id": "53c42407",
   "metadata": {},
   "outputs": [
    {
     "data": {
      "text/plain": [
       "dict_values([0, 1, 2])"
      ]
     },
     "execution_count": 45,
     "metadata": {},
     "output_type": "execute_result"
    }
   ],
   "source": [
    "d.values()"
   ]
  },
  {
   "cell_type": "markdown",
   "id": "6326f5ae",
   "metadata": {},
   "source": [
    "---"
   ]
  },
  {
   "cell_type": "markdown",
   "id": "8bdc375b",
   "metadata": {},
   "source": [
    "> LIST METHODS :"
   ]
  },
  {
   "cell_type": "code",
   "execution_count": 58,
   "id": "ef4678cf",
   "metadata": {},
   "outputs": [],
   "source": [
    "lst = [1,2,3,4]"
   ]
  },
  {
   "cell_type": "code",
   "execution_count": 59,
   "id": "eb3219bb",
   "metadata": {},
   "outputs": [
    {
     "data": {
      "text/plain": [
       "4"
      ]
     },
     "execution_count": 59,
     "metadata": {},
     "output_type": "execute_result"
    }
   ],
   "source": [
    "lst.pop()"
   ]
  },
  {
   "cell_type": "code",
   "execution_count": 60,
   "id": "445e5bfc",
   "metadata": {},
   "outputs": [
    {
     "data": {
      "text/plain": [
       "[1, 2, 3]"
      ]
     },
     "execution_count": 60,
     "metadata": {},
     "output_type": "execute_result"
    }
   ],
   "source": [
    "lst"
   ]
  },
  {
   "cell_type": "code",
   "execution_count": 70,
   "id": "d4ba300c",
   "metadata": {},
   "outputs": [],
   "source": [
    "lst = [1,2,3,4,5]"
   ]
  },
  {
   "cell_type": "code",
   "execution_count": 71,
   "id": "567b2d68",
   "metadata": {},
   "outputs": [],
   "source": [
    "# Poping a specific element at given index \n",
    "item = lst.pop(0)"
   ]
  },
  {
   "cell_type": "code",
   "execution_count": 72,
   "id": "165b993a",
   "metadata": {},
   "outputs": [
    {
     "data": {
      "text/plain": [
       "[2, 3, 4, 5]"
      ]
     },
     "execution_count": 72,
     "metadata": {},
     "output_type": "execute_result"
    }
   ],
   "source": [
    "lst"
   ]
  },
  {
   "cell_type": "code",
   "execution_count": 73,
   "id": "639f7860",
   "metadata": {},
   "outputs": [
    {
     "data": {
      "text/plain": [
       "1"
      ]
     },
     "execution_count": 73,
     "metadata": {},
     "output_type": "execute_result"
    }
   ],
   "source": [
    "item"
   ]
  },
  {
   "cell_type": "code",
   "execution_count": 74,
   "id": "e890360e",
   "metadata": {},
   "outputs": [
    {
     "data": {
      "text/plain": [
       "[2, 3, 4, 5, 6]"
      ]
     },
     "execution_count": 74,
     "metadata": {},
     "output_type": "execute_result"
    }
   ],
   "source": [
    "lst.append(6)\n",
    "lst"
   ]
  },
  {
   "cell_type": "code",
   "execution_count": 75,
   "id": "fd419636",
   "metadata": {},
   "outputs": [],
   "source": [
    "# in - OPERATOR"
   ]
  },
  {
   "cell_type": "code",
   "execution_count": 17,
   "id": "d92d5e95",
   "metadata": {},
   "outputs": [
    {
     "data": {
      "text/plain": [
       "False"
      ]
     },
     "execution_count": 17,
     "metadata": {},
     "output_type": "execute_result"
    }
   ],
   "source": [
    "'a' in [1,2,3,4]"
   ]
  },
  {
   "cell_type": "code",
   "execution_count": 18,
   "id": "689a6a3b",
   "metadata": {},
   "outputs": [
    {
     "data": {
      "text/plain": [
       "True"
      ]
     },
     "execution_count": 18,
     "metadata": {},
     "output_type": "execute_result"
    }
   ],
   "source": [
    "'b' in 'beginners'"
   ]
  },
  {
   "cell_type": "code",
   "execution_count": 81,
   "id": "12ec59a0",
   "metadata": {},
   "outputs": [
    {
     "data": {
      "text/plain": [
       "True"
      ]
     },
     "execution_count": 81,
     "metadata": {},
     "output_type": "execute_result"
    }
   ],
   "source": [
    "3 in lst"
   ]
  },
  {
   "cell_type": "code",
   "execution_count": 84,
   "id": "5205f1b1",
   "metadata": {},
   "outputs": [
    {
     "data": {
      "text/plain": [
       "True"
      ]
     },
     "execution_count": 84,
     "metadata": {},
     "output_type": "execute_result"
    }
   ],
   "source": [
    "# in-operator also works in string and other data structures\n",
    "s = 'He is a dog lover'\n",
    "'dog' in s"
   ]
  },
  {
   "cell_type": "markdown",
   "id": "3dc6650e",
   "metadata": {},
   "source": [
    "---"
   ]
  },
  {
   "cell_type": "markdown",
   "id": "38815f43",
   "metadata": {},
   "source": [
    "> TUPLE UNPACKING :"
   ]
  },
  {
   "cell_type": "code",
   "execution_count": 108,
   "id": "da345d10",
   "metadata": {},
   "outputs": [],
   "source": [
    "x  = [(1,2), (3,4), (5,6)]"
   ]
  },
  {
   "cell_type": "code",
   "execution_count": 109,
   "id": "901b3d5d",
   "metadata": {},
   "outputs": [
    {
     "data": {
      "text/plain": [
       "2"
      ]
     },
     "execution_count": 109,
     "metadata": {},
     "output_type": "execute_result"
    }
   ],
   "source": [
    "x[0][1]"
   ]
  },
  {
   "cell_type": "code",
   "execution_count": 110,
   "id": "e4196571",
   "metadata": {},
   "outputs": [
    {
     "name": "stdout",
     "output_type": "stream",
     "text": [
      "(1, 2)\n",
      "(3, 4)\n",
      "(5, 6)\n"
     ]
    }
   ],
   "source": [
    "# Normal iterating\n",
    "for item in x:\n",
    "    print(item)"
   ]
  },
  {
   "cell_type": "code",
   "execution_count": 114,
   "id": "0df0985a",
   "metadata": {},
   "outputs": [
    {
     "name": "stdout",
     "output_type": "stream",
     "text": [
      "1\n",
      "2\n",
      "3\n",
      "4\n",
      "5\n",
      "6\n"
     ]
    }
   ],
   "source": [
    "# iterating using TUPLE Unpacking\n",
    "\n",
    "for a,b in x:\n",
    "    print(a)\n",
    "    print(b)"
   ]
  },
  {
   "cell_type": "code",
   "execution_count": null,
   "id": "416939b4",
   "metadata": {},
   "outputs": [],
   "source": []
  }
 ],
 "metadata": {
  "kernelspec": {
   "display_name": "Python 3 (ipykernel)",
   "language": "python",
   "name": "python3"
  },
  "language_info": {
   "codemirror_mode": {
    "name": "ipython",
    "version": 3
   },
   "file_extension": ".py",
   "mimetype": "text/x-python",
   "name": "python",
   "nbconvert_exporter": "python",
   "pygments_lexer": "ipython3",
   "version": "3.9.7"
  }
 },
 "nbformat": 4,
 "nbformat_minor": 5
}
