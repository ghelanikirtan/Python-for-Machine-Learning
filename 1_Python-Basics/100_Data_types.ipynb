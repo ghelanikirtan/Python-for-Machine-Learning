{
 "cells": [
  {
   "cell_type": "markdown",
   "id": "fd1be2bc",
   "metadata": {},
   "source": [
    "# Data Types : "
   ]
  },
  {
   "cell_type": "markdown",
   "id": "c2579f6f",
   "metadata": {},
   "source": [
    "### Integers :"
   ]
  },
  {
   "cell_type": "code",
   "execution_count": 1,
   "id": "2932fa7c",
   "metadata": {},
   "outputs": [
    {
     "data": {
      "text/plain": [
       "1"
      ]
     },
     "execution_count": 1,
     "metadata": {},
     "output_type": "execute_result"
    }
   ],
   "source": [
    "1"
   ]
  },
  {
   "cell_type": "code",
   "execution_count": 2,
   "id": "01fc2b9f",
   "metadata": {},
   "outputs": [
    {
     "data": {
      "text/plain": [
       "100"
      ]
     },
     "execution_count": 2,
     "metadata": {},
     "output_type": "execute_result"
    }
   ],
   "source": [
    "100"
   ]
  },
  {
   "cell_type": "markdown",
   "id": "21de882b",
   "metadata": {},
   "source": [
    "### Floating point numbers : "
   ]
  },
  {
   "cell_type": "code",
   "execution_count": 3,
   "id": "150132c9",
   "metadata": {},
   "outputs": [
    {
     "data": {
      "text/plain": [
       "1.0"
      ]
     },
     "execution_count": 3,
     "metadata": {},
     "output_type": "execute_result"
    }
   ],
   "source": [
    "1.0"
   ]
  },
  {
   "cell_type": "code",
   "execution_count": 4,
   "id": "35eb6b5d",
   "metadata": {},
   "outputs": [
    {
     "data": {
      "text/plain": [
       "8.9879"
      ]
     },
     "execution_count": 4,
     "metadata": {},
     "output_type": "execute_result"
    }
   ],
   "source": [
    "8.9879"
   ]
  },
  {
   "cell_type": "markdown",
   "id": "80b610ad",
   "metadata": {},
   "source": [
    "### Strings : "
   ]
  },
  {
   "cell_type": "code",
   "execution_count": 5,
   "id": "b38385e1",
   "metadata": {},
   "outputs": [
    {
     "data": {
      "text/plain": [
       "'single quoted string'"
      ]
     },
     "execution_count": 5,
     "metadata": {},
     "output_type": "execute_result"
    }
   ],
   "source": [
    "'single quoted string'"
   ]
  },
  {
   "cell_type": "code",
   "execution_count": 6,
   "id": "84def65f",
   "metadata": {},
   "outputs": [
    {
     "data": {
      "text/plain": [
       "'double quoted string'"
      ]
     },
     "execution_count": 6,
     "metadata": {},
     "output_type": "execute_result"
    }
   ],
   "source": [
    "\"double quoted string\""
   ]
  },
  {
   "cell_type": "code",
   "execution_count": 1,
   "id": "c5dcb1f6",
   "metadata": {},
   "outputs": [
    {
     "data": {
      "text/plain": [
       "\"We can wrap string's for using apostrophe or quotes \""
      ]
     },
     "execution_count": 1,
     "metadata": {},
     "output_type": "execute_result"
    }
   ],
   "source": [
    "\"We can wrap string's for using apostrophe or quotes \""
   ]
  },
  {
   "cell_type": "code",
   "execution_count": 4,
   "id": "c0e2d6ad",
   "metadata": {},
   "outputs": [
    {
     "data": {
      "text/plain": [
       "'\\nhello,\\nI am Kirtan Ghelani,\\n\\nu are...?\\n'"
      ]
     },
     "execution_count": 4,
     "metadata": {},
     "output_type": "execute_result"
    }
   ],
   "source": [
    "#multiple line strings\n",
    "multilineString = '''\n",
    "hello,\n",
    "I am Kirtan Ghelani,\n",
    "\n",
    "u are...?\n",
    "'''\n",
    "multilineString"
   ]
  },
  {
   "cell_type": "markdown",
   "id": "8d025a93",
   "metadata": {},
   "source": [
    "### Booleans :"
   ]
  },
  {
   "cell_type": "code",
   "execution_count": 8,
   "id": "ee18be33",
   "metadata": {},
   "outputs": [
    {
     "data": {
      "text/plain": [
       "True"
      ]
     },
     "execution_count": 8,
     "metadata": {},
     "output_type": "execute_result"
    }
   ],
   "source": [
    "True "
   ]
  },
  {
   "cell_type": "code",
   "execution_count": 9,
   "id": "3b9721db",
   "metadata": {},
   "outputs": [
    {
     "data": {
      "text/plain": [
       "False"
      ]
     },
     "execution_count": 9,
     "metadata": {},
     "output_type": "execute_result"
    }
   ],
   "source": [
    "False"
   ]
  },
  {
   "cell_type": "markdown",
   "id": "8f327a3e",
   "metadata": {},
   "source": [
    "---\n"
   ]
  },
  {
   "cell_type": "markdown",
   "id": "61955d79",
   "metadata": {},
   "source": [
    "# Mathematical Operations :"
   ]
  },
  {
   "cell_type": "markdown",
   "id": "6b36f5e2",
   "metadata": {},
   "source": [
    "Addition : "
   ]
  },
  {
   "cell_type": "code",
   "execution_count": 10,
   "id": "7d50fb3c",
   "metadata": {},
   "outputs": [
    {
     "data": {
      "text/plain": [
       "9"
      ]
     },
     "execution_count": 10,
     "metadata": {},
     "output_type": "execute_result"
    }
   ],
   "source": [
    "1 + 8"
   ]
  },
  {
   "cell_type": "markdown",
   "id": "77dad986",
   "metadata": {},
   "source": [
    "Subtraction :"
   ]
  },
  {
   "cell_type": "code",
   "execution_count": 11,
   "id": "4d06ea9b",
   "metadata": {},
   "outputs": [
    {
     "data": {
      "text/plain": [
       "3.5"
      ]
     },
     "execution_count": 11,
     "metadata": {},
     "output_type": "execute_result"
    }
   ],
   "source": [
    "8 - 4.5"
   ]
  },
  {
   "cell_type": "markdown",
   "id": "a1cdfaca",
   "metadata": {},
   "source": [
    "Division : "
   ]
  },
  {
   "cell_type": "code",
   "execution_count": 6,
   "id": "b7b30147",
   "metadata": {},
   "outputs": [
    {
     "data": {
      "text/plain": [
       "1.6"
      ]
     },
     "execution_count": 6,
     "metadata": {},
     "output_type": "execute_result"
    }
   ],
   "source": [
    "8 / 5"
   ]
  },
  {
   "cell_type": "markdown",
   "id": "40ff90d6",
   "metadata": {},
   "source": [
    "Division (+ floor function) :"
   ]
  },
  {
   "cell_type": "code",
   "execution_count": 7,
   "id": "4b166285",
   "metadata": {},
   "outputs": [
    {
     "data": {
      "text/plain": [
       "1"
      ]
     },
     "execution_count": 7,
     "metadata": {},
     "output_type": "execute_result"
    }
   ],
   "source": [
    "8 // 5"
   ]
  },
  {
   "cell_type": "markdown",
   "id": "3ee721b4",
   "metadata": {},
   "source": [
    "Multiplication : "
   ]
  },
  {
   "cell_type": "code",
   "execution_count": 13,
   "id": "72517f79",
   "metadata": {},
   "outputs": [
    {
     "data": {
      "text/plain": [
       "22.5"
      ]
     },
     "execution_count": 13,
     "metadata": {},
     "output_type": "execute_result"
    }
   ],
   "source": [
    "5 * 4.5"
   ]
  },
  {
   "cell_type": "markdown",
   "id": "1eedc537",
   "metadata": {},
   "source": [
    "Power (x^y) :"
   ]
  },
  {
   "cell_type": "code",
   "execution_count": 14,
   "id": "b348e3a0",
   "metadata": {},
   "outputs": [
    {
     "data": {
      "text/plain": [
       "27"
      ]
     },
     "execution_count": 14,
     "metadata": {},
     "output_type": "execute_result"
    }
   ],
   "source": [
    "3 ** 3"
   ]
  },
  {
   "cell_type": "markdown",
   "id": "b5cbef83",
   "metadata": {},
   "source": [
    "Remainder (MOD function) :  "
   ]
  },
  {
   "cell_type": "code",
   "execution_count": 5,
   "id": "41ff6a5e",
   "metadata": {},
   "outputs": [
    {
     "data": {
      "text/plain": [
       "1"
      ]
     },
     "execution_count": 5,
     "metadata": {},
     "output_type": "execute_result"
    }
   ],
   "source": [
    "13 % 4"
   ]
  },
  {
   "cell_type": "markdown",
   "id": "605556af",
   "metadata": {},
   "source": [
    "#### Order of Operations : "
   ]
  },
  {
   "cell_type": "code",
   "execution_count": 16,
   "id": "d29f2e4f",
   "metadata": {},
   "outputs": [
    {
     "data": {
      "text/plain": [
       "22"
      ]
     },
     "execution_count": 16,
     "metadata": {},
     "output_type": "execute_result"
    }
   ],
   "source": [
    "2 + 3 * 5 + 5 \n",
    "    # 2 + (3*5) + 5"
   ]
  },
  {
   "cell_type": "code",
   "execution_count": 8,
   "id": "1a14485a",
   "metadata": {
    "scrolled": true
   },
   "outputs": [
    {
     "data": {
      "text/plain": [
       "50"
      ]
     },
     "execution_count": 8,
     "metadata": {},
     "output_type": "execute_result"
    }
   ],
   "source": [
    "(2+3) * (5+5)\n",
    "    # (2+3)*(5+5) - USING paranthesis we can give order of performing operations\n",
    "                    #else default order (PEMDAS) is taken by python    "
   ]
  },
  {
   "cell_type": "markdown",
   "id": "65bde07d",
   "metadata": {},
   "source": [
    "#### Useful Functions : "
   ]
  },
  {
   "cell_type": "code",
   "execution_count": 12,
   "id": "a9dee1ac",
   "metadata": {},
   "outputs": [
    {
     "data": {
      "text/plain": [
       "53"
      ]
     },
     "execution_count": 12,
     "metadata": {},
     "output_type": "execute_result"
    }
   ],
   "source": [
    "#1 -> round()\n",
    "round(53.215)"
   ]
  },
  {
   "cell_type": "code",
   "execution_count": 13,
   "id": "d31abe4c",
   "metadata": {},
   "outputs": [
    {
     "data": {
      "text/plain": [
       "545.22"
      ]
     },
     "execution_count": 13,
     "metadata": {},
     "output_type": "execute_result"
    }
   ],
   "source": [
    "#2 -> abs()\n",
    "# always returns positive value\n",
    "abs(-545.22)"
   ]
  },
  {
   "cell_type": "markdown",
   "id": "6991fcd7",
   "metadata": {},
   "source": [
    "---"
   ]
  },
  {
   "cell_type": "markdown",
   "id": "6f698813",
   "metadata": {},
   "source": [
    "# Math Module - Importing"
   ]
  },
  {
   "cell_type": "code",
   "execution_count": 22,
   "id": "e004d698",
   "metadata": {},
   "outputs": [
    {
     "data": {
      "text/plain": [
       "2432902008176640000"
      ]
     },
     "execution_count": 22,
     "metadata": {},
     "output_type": "execute_result"
    }
   ],
   "source": [
    "import math\n",
    "\n",
    "math.factorial(20)"
   ]
  },
  {
   "cell_type": "code",
   "execution_count": 23,
   "id": "d008a0a7",
   "metadata": {},
   "outputs": [
    {
     "data": {
      "text/plain": [
       "3"
      ]
     },
     "execution_count": 23,
     "metadata": {},
     "output_type": "execute_result"
    }
   ],
   "source": [
    "math.ceil(2.4)"
   ]
  },
  {
   "cell_type": "markdown",
   "id": "3f42f366",
   "metadata": {},
   "source": [
    "# [MATH module](https://docs.python.org/3/library/math.html) - click here for more"
   ]
  }
 ],
 "metadata": {
  "kernelspec": {
   "display_name": "Python 3 (ipykernel)",
   "language": "python",
   "name": "python3"
  },
  "language_info": {
   "codemirror_mode": {
    "name": "ipython",
    "version": 3
   },
   "file_extension": ".py",
   "mimetype": "text/x-python",
   "name": "python",
   "nbconvert_exporter": "python",
   "pygments_lexer": "ipython3",
   "version": "3.9.7"
  }
 },
 "nbformat": 4,
 "nbformat_minor": 5
}
