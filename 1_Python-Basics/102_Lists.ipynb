{
 "cells": [
  {
   "cell_type": "markdown",
   "id": "cb5f5e79",
   "metadata": {},
   "source": [
    "# LISTS :"
   ]
  },
  {
   "cell_type": "code",
   "execution_count": 159,
   "id": "615d3bad",
   "metadata": {},
   "outputs": [
    {
     "data": {
      "text/plain": [
       "[1, 2, 3]"
      ]
     },
     "execution_count": 159,
     "metadata": {},
     "output_type": "execute_result"
    }
   ],
   "source": [
    "#sequence of elements :\n",
    "[1,2,3]"
   ]
  },
  {
   "cell_type": "code",
   "execution_count": 160,
   "id": "fec26c31",
   "metadata": {},
   "outputs": [],
   "source": [
    "lis = [0, 1, 2, 3,'a','b','c']\n",
    "numbers = [0,1,2,3,4]\n",
    "alphabets = ['a','b','c']"
   ]
  },
  {
   "cell_type": "code",
   "execution_count": 161,
   "id": "bcb4042e",
   "metadata": {},
   "outputs": [
    {
     "data": {
      "text/plain": [
       "[0, 1, 2, 3, 'a', 'b', 'c']"
      ]
     },
     "execution_count": 161,
     "metadata": {},
     "output_type": "execute_result"
    }
   ],
   "source": [
    "lis"
   ]
  },
  {
   "cell_type": "markdown",
   "id": "603f8406",
   "metadata": {},
   "source": [
    "# List Operations :"
   ]
  },
  {
   "cell_type": "markdown",
   "id": "25fefb5c",
   "metadata": {},
   "source": [
    ">***Append function - adds element at the end of the list***"
   ]
  },
  {
   "cell_type": "markdown",
   "id": "6ccee85d",
   "metadata": {},
   "source": [
    "*Syntax* - `listName.append(element)`"
   ]
  },
  {
   "cell_type": "code",
   "execution_count": 162,
   "id": "d0e23d95",
   "metadata": {},
   "outputs": [],
   "source": [
    "numbers.append(8)"
   ]
  },
  {
   "cell_type": "code",
   "execution_count": 163,
   "id": "9f21bf5b",
   "metadata": {},
   "outputs": [
    {
     "data": {
      "text/plain": [
       "[0, 1, 2, 3, 4, 8]"
      ]
     },
     "execution_count": 163,
     "metadata": {},
     "output_type": "execute_result"
    }
   ],
   "source": [
    "numbers"
   ]
  },
  {
   "cell_type": "markdown",
   "id": "b9948f5a",
   "metadata": {},
   "source": [
    ">***Slice elements / Fetch element to a new list***"
   ]
  },
  {
   "cell_type": "markdown",
   "id": "da6a8a57",
   "metadata": {},
   "source": [
    "*Syntax*- `listName[from/index : to/(n-1)Position]` *OR* `listName[index]`"
   ]
  },
  {
   "cell_type": "code",
   "execution_count": 164,
   "id": "233bf156",
   "metadata": {},
   "outputs": [
    {
     "data": {
      "text/plain": [
       "'a'"
      ]
     },
     "execution_count": 164,
     "metadata": {},
     "output_type": "execute_result"
    }
   ],
   "source": [
    "lis[4]"
   ]
  },
  {
   "cell_type": "code",
   "execution_count": 8,
   "id": "af3622cd",
   "metadata": {},
   "outputs": [
    {
     "data": {
      "text/plain": [
       "[1, 2, 3]"
      ]
     },
     "execution_count": 8,
     "metadata": {},
     "output_type": "execute_result"
    }
   ],
   "source": [
    "lis[1:4]"
   ]
  },
  {
   "cell_type": "code",
   "execution_count": 165,
   "id": "76604424",
   "metadata": {},
   "outputs": [
    {
     "data": {
      "text/plain": [
       "[0, 1, 2, 3]"
      ]
     },
     "execution_count": 165,
     "metadata": {},
     "output_type": "execute_result"
    }
   ],
   "source": [
    "lis[0:4]"
   ]
  },
  {
   "cell_type": "code",
   "execution_count": 166,
   "id": "5585a5b6",
   "metadata": {},
   "outputs": [
    {
     "data": {
      "text/plain": [
       "[0, 1, 2, 3, 4, 5]"
      ]
     },
     "execution_count": 166,
     "metadata": {},
     "output_type": "execute_result"
    }
   ],
   "source": [
    "#reassigning an element in the list\n",
    "numbers[5] = 5\n",
    "numbers"
   ]
  },
  {
   "cell_type": "markdown",
   "id": "f267b73f",
   "metadata": {},
   "source": [
    ">***Nesting a list***"
   ]
  },
  {
   "cell_type": "code",
   "execution_count": 167,
   "id": "efdab5b1",
   "metadata": {},
   "outputs": [],
   "source": [
    "nested = [1, 2, [3,4,['OK']], ]"
   ]
  },
  {
   "cell_type": "code",
   "execution_count": 168,
   "id": "b3ee7272",
   "metadata": {},
   "outputs": [
    {
     "data": {
      "text/plain": [
       "[3, 4, ['OK']]"
      ]
     },
     "execution_count": 168,
     "metadata": {},
     "output_type": "execute_result"
    }
   ],
   "source": [
    "nested[2]"
   ]
  },
  {
   "cell_type": "code",
   "execution_count": 169,
   "id": "d1ab7cf0",
   "metadata": {},
   "outputs": [
    {
     "data": {
      "text/plain": [
       "4"
      ]
     },
     "execution_count": 169,
     "metadata": {},
     "output_type": "execute_result"
    }
   ],
   "source": [
    "nested[2][1]     #like 2-D array"
   ]
  },
  {
   "cell_type": "code",
   "execution_count": 170,
   "id": "0621450e",
   "metadata": {},
   "outputs": [
    {
     "data": {
      "text/plain": [
       "'OK'"
      ]
     },
     "execution_count": 170,
     "metadata": {},
     "output_type": "execute_result"
    }
   ],
   "source": [
    "nested[2][2][0]     #like 3-D array"
   ]
  },
  {
   "cell_type": "code",
   "execution_count": 171,
   "id": "adf9904d",
   "metadata": {},
   "outputs": [
    {
     "data": {
      "text/plain": [
       "[['a', 'b', 'c'], [0, 1, 2, 3, 4, 5]]"
      ]
     },
     "execution_count": 171,
     "metadata": {},
     "output_type": "execute_result"
    }
   ],
   "source": [
    "alphaNumeric = [alphabets, numbers]\n",
    "alphaNumeric"
   ]
  },
  {
   "cell_type": "markdown",
   "id": "6d590a38",
   "metadata": {},
   "source": [
    "# More Operations :"
   ]
  },
  {
   "cell_type": "code",
   "execution_count": 172,
   "id": "0e2dbf24",
   "metadata": {},
   "outputs": [],
   "source": [
    "li = [0,1,2,'a','b','c']\n",
    "integers = [4,5,8,2,4,3,2,4,4,4,1]"
   ]
  },
  {
   "cell_type": "code",
   "execution_count": 173,
   "id": "863af62b",
   "metadata": {},
   "outputs": [
    {
     "data": {
      "text/plain": [
       "6"
      ]
     },
     "execution_count": 173,
     "metadata": {},
     "output_type": "execute_result"
    }
   ],
   "source": [
    "#1. length of the list : \n",
    "len(li)"
   ]
  },
  {
   "cell_type": "code",
   "execution_count": 174,
   "id": "baf12a69",
   "metadata": {},
   "outputs": [
    {
     "data": {
      "text/plain": [
       "[0, 1, 2, 'a', 'b', 'd', 'c']"
      ]
     },
     "execution_count": 174,
     "metadata": {},
     "output_type": "execute_result"
    }
   ],
   "source": [
    "#2. inserting an element at given index i : \n",
    "li.insert(5, 'd')\n",
    "li"
   ]
  },
  {
   "cell_type": "code",
   "execution_count": 175,
   "id": "ed4d35e4",
   "metadata": {},
   "outputs": [
    {
     "data": {
      "text/plain": [
       "[0, 1, 2, 'a', 'b', 'c']"
      ]
     },
     "execution_count": 175,
     "metadata": {},
     "output_type": "execute_result"
    }
   ],
   "source": [
    "#3. removing/poping an element at given index i :\n",
    "    #No arguments in pop results into deleting last element\n",
    "li.pop(5)\n",
    "li"
   ]
  },
  {
   "cell_type": "code",
   "execution_count": 176,
   "id": "ad5af266",
   "metadata": {},
   "outputs": [
    {
     "data": {
      "text/plain": [
       "[1, 2, 2, 3, 4, 4, 4, 4, 4, 5, 8]"
      ]
     },
     "execution_count": 176,
     "metadata": {},
     "output_type": "execute_result"
    }
   ],
   "source": [
    "#4. Sorting items in list :\n",
    "    # WORKS ONLY IN SAME DATA TYPES,\n",
    "integers.sort()\n",
    "integers"
   ]
  },
  {
   "cell_type": "code",
   "execution_count": 177,
   "id": "d4ed8f58",
   "metadata": {},
   "outputs": [
    {
     "data": {
      "text/plain": [
       "['c', 'b', 'a', 2, 1, 0]"
      ]
     },
     "execution_count": 177,
     "metadata": {},
     "output_type": "execute_result"
    }
   ],
   "source": [
    "#5. Reversing a List :\n",
    "li.reverse()\n",
    "li"
   ]
  },
  {
   "cell_type": "code",
   "execution_count": 178,
   "id": "5386c327",
   "metadata": {},
   "outputs": [
    {
     "data": {
      "text/plain": [
       "5"
      ]
     },
     "execution_count": 178,
     "metadata": {},
     "output_type": "execute_result"
    }
   ],
   "source": [
    "#6. Counting an element in list :\n",
    "integers.count(4)"
   ]
  },
  {
   "cell_type": "code",
   "execution_count": 179,
   "id": "02baebf8",
   "metadata": {},
   "outputs": [
    {
     "data": {
      "text/plain": [
       "[1, 2, 2, 3, 4, 4, 4, 4, 4, 5]"
      ]
     },
     "execution_count": 179,
     "metadata": {},
     "output_type": "execute_result"
    }
   ],
   "source": [
    "#7. Removing a specific element from a list :\n",
    "integers.remove(8)\n",
    "integers"
   ]
  },
  {
   "cell_type": "code",
   "execution_count": 180,
   "id": "f150463d",
   "metadata": {},
   "outputs": [
    {
     "data": {
      "text/plain": [
       "1"
      ]
     },
     "execution_count": 180,
     "metadata": {},
     "output_type": "execute_result"
    }
   ],
   "source": [
    "#8. Returning index of given element : \n",
    "li.index('b')"
   ]
  },
  {
   "cell_type": "code",
   "execution_count": 185,
   "id": "23693cca",
   "metadata": {},
   "outputs": [
    {
     "data": {
      "text/plain": [
       "['a', 'b', 'c', 'd', 'e', 'f']"
      ]
     },
     "execution_count": 185,
     "metadata": {},
     "output_type": "execute_result"
    }
   ],
   "source": [
    "#9. Converting string into list\n",
    "s = 'abcdef'\n",
    "convertedList = []\n",
    "convertedList[:0] = s\n",
    "convertedList\n",
    "    #OR\n",
    "#convertedLi = list(s)"
   ]
  },
  {
   "cell_type": "markdown",
   "id": "5f3512b1",
   "metadata": {},
   "source": [
    "# Using Lists as a STACKS :"
   ]
  },
  {
   "cell_type": "code",
   "execution_count": 186,
   "id": "e3e1dfd9",
   "metadata": {},
   "outputs": [],
   "source": [
    "stack = [4,5,6]"
   ]
  },
  {
   "cell_type": "code",
   "execution_count": 187,
   "id": "399426cc",
   "metadata": {},
   "outputs": [
    {
     "data": {
      "text/plain": [
       "[4, 5, 6, 7, 8]"
      ]
     },
     "execution_count": 187,
     "metadata": {},
     "output_type": "execute_result"
    }
   ],
   "source": [
    "stack.append(7)\n",
    "stack.append(8)\n",
    "stack"
   ]
  },
  {
   "cell_type": "code",
   "execution_count": 188,
   "id": "84ef7931",
   "metadata": {},
   "outputs": [
    {
     "data": {
      "text/plain": [
       "[4, 5, 6, 7]"
      ]
     },
     "execution_count": 188,
     "metadata": {},
     "output_type": "execute_result"
    }
   ],
   "source": [
    "stack.pop()\n",
    "stack"
   ]
  }
 ],
 "metadata": {
  "kernelspec": {
   "display_name": "Python 3 (ipykernel)",
   "language": "python",
   "name": "python3"
  },
  "language_info": {
   "codemirror_mode": {
    "name": "ipython",
    "version": 3
   },
   "file_extension": ".py",
   "mimetype": "text/x-python",
   "name": "python",
   "nbconvert_exporter": "python",
   "pygments_lexer": "ipython3",
   "version": "3.9.7"
  }
 },
 "nbformat": 4,
 "nbformat_minor": 5
}
