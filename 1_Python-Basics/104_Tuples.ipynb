{
 "cells": [
  {
   "cell_type": "markdown",
   "id": "6813acbc",
   "metadata": {},
   "source": [
    "# TUPLES : "
   ]
  },
  {
   "cell_type": "markdown",
   "id": "61762234",
   "metadata": {},
   "source": [
    "*syntax* - `t = (1,2,3)`"
   ]
  },
  {
   "cell_type": "code",
   "execution_count": 3,
   "id": "8a3c2643",
   "metadata": {},
   "outputs": [],
   "source": [
    "tuple = (0,1,2,'a','b','c')\n",
    "list = [0,1,2,'a','b','c'] "
   ]
  },
  {
   "cell_type": "code",
   "execution_count": 4,
   "id": "08de2d91",
   "metadata": {},
   "outputs": [
    {
     "data": {
      "text/plain": [
       "'a'"
      ]
     },
     "execution_count": 4,
     "metadata": {},
     "output_type": "execute_result"
    }
   ],
   "source": [
    "#fetching value/data from a given TUPLE\n",
    "tuple[3]"
   ]
  },
  {
   "cell_type": "markdown",
   "id": "4615311e",
   "metadata": {},
   "source": [
    ">*Difference b/w Lists & Tuples :*"
   ]
  },
  {
   "cell_type": "markdown",
   "id": "a88fc234",
   "metadata": {},
   "source": [
    "- Tuples are **imutable** i.e. They *don't* support ITEM assignment\n",
    "- Lists are **mutable** i.e. They support their item's assignment\n"
   ]
  },
  {
   "cell_type": "code",
   "execution_count": 5,
   "id": "cdbb950f",
   "metadata": {},
   "outputs": [
    {
     "data": {
      "text/plain": [
       "[0, 1, 2, 'a', 'b', 'c']"
      ]
     },
     "execution_count": 5,
     "metadata": {},
     "output_type": "execute_result"
    }
   ],
   "source": [
    "list"
   ]
  },
  {
   "cell_type": "code",
   "execution_count": 6,
   "id": "768b3fe5",
   "metadata": {},
   "outputs": [
    {
     "data": {
      "text/plain": [
       "['new', 'reassign', 2, 'a', 'b', 'c']"
      ]
     },
     "execution_count": 6,
     "metadata": {},
     "output_type": "execute_result"
    }
   ],
   "source": [
    "list[0], list[1] = 'new', 'reassign'\n",
    "list"
   ]
  },
  {
   "cell_type": "code",
   "execution_count": 7,
   "id": "db8b6e5f",
   "metadata": {},
   "outputs": [
    {
     "ename": "TypeError",
     "evalue": "'tuple' object does not support item assignment",
     "output_type": "error",
     "traceback": [
      "\u001b[1;31m---------------------------------------------------------------------------\u001b[0m",
      "\u001b[1;31mTypeError\u001b[0m                                 Traceback (most recent call last)",
      "\u001b[1;32m~\\AppData\\Local\\Temp/ipykernel_11652/1448377303.py\u001b[0m in \u001b[0;36m<module>\u001b[1;34m\u001b[0m\n\u001b[1;32m----> 1\u001b[1;33m \u001b[0mtuple\u001b[0m\u001b[1;33m[\u001b[0m\u001b[1;36m0\u001b[0m\u001b[1;33m]\u001b[0m\u001b[1;33m=\u001b[0m \u001b[1;34m'new'\u001b[0m\u001b[1;33m\u001b[0m\u001b[1;33m\u001b[0m\u001b[0m\n\u001b[0m\u001b[0;32m      2\u001b[0m \u001b[0mtuple\u001b[0m\u001b[1;33m[\u001b[0m\u001b[1;36m1\u001b[0m\u001b[1;33m]\u001b[0m\u001b[1;33m=\u001b[0m\u001b[1;34m'reassign'\u001b[0m\u001b[1;33m\u001b[0m\u001b[1;33m\u001b[0m\u001b[0m\n",
      "\u001b[1;31mTypeError\u001b[0m: 'tuple' object does not support item assignment"
     ]
    }
   ],
   "source": [
    "tuple[0]= 'new'\n",
    "tuple[1]='reassign'"
   ]
  },
  {
   "cell_type": "code",
   "execution_count": 8,
   "id": "a25ef2db",
   "metadata": {},
   "outputs": [
    {
     "data": {
      "text/plain": [
       "(0, 1, 2, 'a', 'b', 'c')"
      ]
     },
     "execution_count": 8,
     "metadata": {},
     "output_type": "execute_result"
    }
   ],
   "source": [
    "tuple  #here items inside the tuple will remain unchanged"
   ]
  }
 ],
 "metadata": {
  "kernelspec": {
   "display_name": "Python 3 (ipykernel)",
   "language": "python",
   "name": "python3"
  },
  "language_info": {
   "codemirror_mode": {
    "name": "ipython",
    "version": 3
   },
   "file_extension": ".py",
   "mimetype": "text/x-python",
   "name": "python",
   "nbconvert_exporter": "python",
   "pygments_lexer": "ipython3",
   "version": "3.9.7"
  }
 },
 "nbformat": 4,
 "nbformat_minor": 5
}
