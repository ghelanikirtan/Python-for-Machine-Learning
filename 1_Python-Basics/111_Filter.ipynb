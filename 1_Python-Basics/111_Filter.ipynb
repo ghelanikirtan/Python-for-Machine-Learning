{
 "cells": [
  {
   "cell_type": "markdown",
   "id": "c70618ce",
   "metadata": {},
   "source": [
    "# FILTER Function :"
   ]
  },
  {
   "cell_type": "markdown",
   "id": "acd13688",
   "metadata": {},
   "source": [
    "*syntax* - `outputType( filter(functionReturning_BOOLEAN_VALUES, listName) )`"
   ]
  },
  {
   "cell_type": "code",
   "execution_count": 2,
   "id": "6223ac54",
   "metadata": {},
   "outputs": [],
   "source": [
    "seq = [0,1,2,3,4,5,6,7,8,9]"
   ]
  },
  {
   "cell_type": "code",
   "execution_count": 6,
   "id": "49486a9a",
   "metadata": {},
   "outputs": [
    {
     "data": {
      "text/plain": [
       "[0, 2, 4, 6, 8]"
      ]
     },
     "execution_count": 6,
     "metadata": {},
     "output_type": "execute_result"
    }
   ],
   "source": [
    "evenNos =  list( filter(lambda n : n%2==0, seq) )\n",
    "evenNos"
   ]
  }
 ],
 "metadata": {
  "kernelspec": {
   "display_name": "Python 3 (ipykernel)",
   "language": "python",
   "name": "python3"
  },
  "language_info": {
   "codemirror_mode": {
    "name": "ipython",
    "version": 3
   },
   "file_extension": ".py",
   "mimetype": "text/x-python",
   "name": "python",
   "nbconvert_exporter": "python",
   "pygments_lexer": "ipython3",
   "version": "3.9.7"
  }
 },
 "nbformat": 4,
 "nbformat_minor": 5
}
