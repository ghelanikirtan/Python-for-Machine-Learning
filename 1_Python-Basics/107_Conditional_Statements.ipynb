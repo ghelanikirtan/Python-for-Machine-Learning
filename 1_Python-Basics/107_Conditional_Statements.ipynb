{
 "cells": [
  {
   "cell_type": "markdown",
   "id": "60d81a44",
   "metadata": {},
   "source": [
    "# CONDITIONAL STATEMENTS :"
   ]
  },
  {
   "cell_type": "markdown",
   "id": "bacaca66",
   "metadata": {},
   "source": [
    ">1.  **'if ' statement :** \n",
    "- *syntax* - `if condition_BooleanValue : #code`"
   ]
  },
  {
   "cell_type": "code",
   "execution_count": 6,
   "id": "86821357",
   "metadata": {},
   "outputs": [
    {
     "name": "stdout",
     "output_type": "stream",
     "text": [
      "That's correct\n"
     ]
    }
   ],
   "source": [
    "if 1 < 2 :\n",
    "    print(\"That's correct\") \n",
    "    #here whitespace before print is important as to separate code block "
   ]
  },
  {
   "cell_type": "markdown",
   "id": "305c82cd",
   "metadata": {},
   "source": [
    ">1.  **'elif ' statement (else_if) - use after using if ONLY** \n",
    "- *syntax* - `elif condition_BooleanValue : #code`"
   ]
  },
  {
   "cell_type": "code",
   "execution_count": 4,
   "id": "b59d6442",
   "metadata": {},
   "outputs": [
    {
     "name": "stdout",
     "output_type": "stream",
     "text": [
      "middle\n"
     ]
    }
   ],
   "source": [
    "if 1==2: \n",
    "    print(\"first\")\n",
    "elif 1 < 3:\n",
    "    print(\"middle\")"
   ]
  },
  {
   "cell_type": "markdown",
   "id": "90e6471c",
   "metadata": {},
   "source": [
    ">1.  **'else' statement :** \n",
    "- *syntax* - `else : #code`"
   ]
  },
  {
   "cell_type": "code",
   "execution_count": 13,
   "id": "e91e48ed",
   "metadata": {},
   "outputs": [
    {
     "name": "stdout",
     "output_type": "stream",
     "text": [
      "last\n"
     ]
    }
   ],
   "source": [
    "if 1==2:\n",
    "    print(\"first\")\n",
    "elif 1 > 3:\n",
    "    print(\"middle\")\n",
    "else :\n",
    "    print(\"last\")"
   ]
  }
 ],
 "metadata": {
  "kernelspec": {
   "display_name": "Python 3 (ipykernel)",
   "language": "python",
   "name": "python3"
  },
  "language_info": {
   "codemirror_mode": {
    "name": "ipython",
    "version": 3
   },
   "file_extension": ".py",
   "mimetype": "text/x-python",
   "name": "python",
   "nbconvert_exporter": "python",
   "pygments_lexer": "ipython3",
   "version": "3.9.7"
  }
 },
 "nbformat": 4,
 "nbformat_minor": 5
}
