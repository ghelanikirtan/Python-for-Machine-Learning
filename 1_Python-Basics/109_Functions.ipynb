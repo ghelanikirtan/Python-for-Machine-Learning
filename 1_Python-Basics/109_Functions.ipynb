{
 "cells": [
  {
   "cell_type": "markdown",
   "id": "ee61d215",
   "metadata": {},
   "source": [
    "# FUNCTIONS :"
   ]
  },
  {
   "cell_type": "markdown",
   "id": "7ea04709",
   "metadata": {},
   "source": [
    "*Syntax* - `def functionName(parameters): #code`"
   ]
  },
  {
   "cell_type": "markdown",
   "id": "6b7d1d1a",
   "metadata": {},
   "source": [
    "> **Non-return type Functions :**"
   ]
  },
  {
   "cell_type": "code",
   "execution_count": 25,
   "id": "dcef9be2",
   "metadata": {},
   "outputs": [],
   "source": [
    "def myFunction(name = 'defaultValue'):\n",
    "    print(\"hello \"+name)"
   ]
  },
  {
   "cell_type": "code",
   "execution_count": 10,
   "id": "48893942",
   "metadata": {},
   "outputs": [
    {
     "name": "stdout",
     "output_type": "stream",
     "text": [
      "hello defaultValue\n"
     ]
    }
   ],
   "source": [
    "myFunction()"
   ]
  },
  {
   "cell_type": "code",
   "execution_count": 11,
   "id": "d268e8eb",
   "metadata": {},
   "outputs": [
    {
     "name": "stdout",
     "output_type": "stream",
     "text": [
      "hello Ghelani\n"
     ]
    }
   ],
   "source": [
    "myFunction('Ghelani')"
   ]
  },
  {
   "cell_type": "code",
   "execution_count": 19,
   "id": "6a802817",
   "metadata": {},
   "outputs": [],
   "source": [
    "#\n",
    "def my_func(fName,lName):\n",
    "    print(\"Hello \"+fName+\" \"+lName+\", !!\")"
   ]
  },
  {
   "cell_type": "code",
   "execution_count": 20,
   "id": "c2b8fd19",
   "metadata": {},
   "outputs": [
    {
     "name": "stdout",
     "output_type": "stream",
     "text": [
      "Hello Kirtan Ghelani, !!\n"
     ]
    }
   ],
   "source": [
    "my_func('Kirtan','Ghelani')"
   ]
  },
  {
   "cell_type": "code",
   "execution_count": 22,
   "id": "6e13764b",
   "metadata": {},
   "outputs": [
    {
     "name": "stdout",
     "output_type": "stream",
     "text": [
      "Hello Kirtan Ghelani, !!\n"
     ]
    }
   ],
   "source": [
    "my_func(lName = 'Ghelani', fName ='Kirtan')"
   ]
  },
  {
   "cell_type": "markdown",
   "id": "f66c2176",
   "metadata": {},
   "source": [
    "> **Return type Functions :**"
   ]
  },
  {
   "cell_type": "code",
   "execution_count": 29,
   "id": "7c3204d4",
   "metadata": {},
   "outputs": [
    {
     "data": {
      "text/plain": [
       "16"
      ]
     },
     "execution_count": 29,
     "metadata": {},
     "output_type": "execute_result"
    }
   ],
   "source": [
    "def square(n):\n",
    "    \"\"\"\n",
    "    Functions have Documentation Strings \n",
    "    (multiple lines long comments)\n",
    "    \"\"\"\n",
    "    return n**2\n",
    "\n",
    "output = square(4)\n",
    "output"
   ]
  }
 ],
 "metadata": {
  "kernelspec": {
   "display_name": "Python 3 (ipykernel)",
   "language": "python",
   "name": "python3"
  },
  "language_info": {
   "codemirror_mode": {
    "name": "ipython",
    "version": 3
   },
   "file_extension": ".py",
   "mimetype": "text/x-python",
   "name": "python",
   "nbconvert_exporter": "python",
   "pygments_lexer": "ipython3",
   "version": "3.9.7"
  }
 },
 "nbformat": 4,
 "nbformat_minor": 5
}
